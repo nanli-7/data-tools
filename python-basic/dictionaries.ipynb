{
 "cells": [
  {
   "cell_type": "markdown",
   "metadata": {},
   "source": [
    "## Dictionaries\n",
    "* Dictionaries are unordered data structures that map keys into values. The value can be anything (lists, functions, strings, anything). The key has to be immutable, for example, numbers, strings or tuples.\n",
    "\n"
   ]
  },
  {
   "cell_type": "code",
   "execution_count": 1,
   "metadata": {},
   "outputs": [],
   "source": [
    "# Defining a dictionary\n",
    "webstersDict = {'person': 'a human being, whether an adult or child', \n",
    "                'marathon': 'a running race that is about 26 miles', \n",
    "                'resist': ' to remain strong against the force or effect of (something)', \n",
    "                'run': 'to move with haste; act quickly'}"
   ]
  },
  {
   "cell_type": "code",
   "execution_count": 2,
   "metadata": {},
   "outputs": [
    {
     "data": {
      "text/plain": [
       "{'person': 'a human being, whether an adult or child',\n",
       " 'marathon': 'a running race that is about 26 miles',\n",
       " 'resist': ' to remain strong against the force or effect of (something)',\n",
       " 'run': 'to move with haste; act quickly'}"
      ]
     },
     "execution_count": 2,
     "metadata": {},
     "output_type": "execute_result"
    }
   ],
   "source": [
    "webstersDict\n"
   ]
  },
  {
   "cell_type": "markdown",
   "metadata": {},
   "source": [
    "### 1. Accessing values in a dictionary¶\n"
   ]
  },
  {
   "cell_type": "code",
   "execution_count": 3,
   "metadata": {},
   "outputs": [
    {
     "data": {
      "text/plain": [
       "'a running race that is about 26 miles'"
      ]
     },
     "execution_count": 3,
     "metadata": {},
     "output_type": "execute_result"
    }
   ],
   "source": [
    "# Finding out the meaning of the word marathon\n",
    "# dictionary[key]\n",
    "webstersDict['marathon']"
   ]
  },
  {
   "cell_type": "markdown",
   "metadata": {},
   "source": [
    "### 2. Updating a dictionary¶\n"
   ]
  },
  {
   "cell_type": "code",
   "execution_count": 4,
   "metadata": {},
   "outputs": [],
   "source": [
    "# add one new key value pair to dictionary\n",
    "webstersDict['shoe'] = 'an external covering for the human foot'"
   ]
  },
  {
   "cell_type": "code",
   "execution_count": 5,
   "metadata": {},
   "outputs": [
    {
     "data": {
      "text/plain": [
       "'an external covering for the human foot'"
      ]
     },
     "execution_count": 5,
     "metadata": {},
     "output_type": "execute_result"
    }
   ],
   "source": [
    "# return the value for the 'shoe' key\n",
    "webstersDict['shoe']"
   ]
  },
  {
   "cell_type": "code",
   "execution_count": 6,
   "metadata": {},
   "outputs": [],
   "source": [
    "# update method, update or add more than key value pair at a time \n",
    "webstersDict.update({'shirt': 'a long- or short-sleeved garment for the upper part of the body',\n",
    "                     'shoe': 'an external covering for the human foot, usually of leather and consisting of a more or less stiff or heavy sole and a lighter upper part ending a short distance above, at, or below the ankle.'})"
   ]
  },
  {
   "cell_type": "code",
   "execution_count": 7,
   "metadata": {},
   "outputs": [
    {
     "data": {
      "text/plain": [
       "{'person': 'a human being, whether an adult or child',\n",
       " 'marathon': 'a running race that is about 26 miles',\n",
       " 'resist': ' to remain strong against the force or effect of (something)',\n",
       " 'run': 'to move with haste; act quickly',\n",
       " 'shoe': 'an external covering for the human foot, usually of leather and consisting of a more or less stiff or heavy sole and a lighter upper part ending a short distance above, at, or below the ankle.',\n",
       " 'shirt': 'a long- or short-sleeved garment for the upper part of the body'}"
      ]
     },
     "execution_count": 7,
     "metadata": {},
     "output_type": "execute_result"
    }
   ],
   "source": [
    "webstersDict"
   ]
  },
  {
   "cell_type": "code",
   "execution_count": 8,
   "metadata": {},
   "outputs": [],
   "source": [
    "# Removing key from dictionary\n",
    "del webstersDict['resist']"
   ]
  },
  {
   "cell_type": "code",
   "execution_count": 9,
   "metadata": {},
   "outputs": [
    {
     "data": {
      "text/plain": [
       "{'person': 'a human being, whether an adult or child',\n",
       " 'marathon': 'a running race that is about 26 miles',\n",
       " 'run': 'to move with haste; act quickly',\n",
       " 'shoe': 'an external covering for the human foot, usually of leather and consisting of a more or less stiff or heavy sole and a lighter upper part ending a short distance above, at, or below the ankle.',\n",
       " 'shirt': 'a long- or short-sleeved garment for the upper part of the body'}"
      ]
     },
     "execution_count": 9,
     "metadata": {},
     "output_type": "execute_result"
    }
   ],
   "source": [
    "webstersDict"
   ]
  },
  {
   "cell_type": "markdown",
   "metadata": {},
   "source": [
    "* __NOTE: Not Everything can Be Used as a Key__\n",
    "\n",
    "Only immutable objects can be used as keys. Lists cannot be used as keys, but tuples, numbers, and strings can.\n",
    "\n"
   ]
  },
  {
   "cell_type": "code",
   "execution_count": 10,
   "metadata": {},
   "outputs": [
    {
     "ename": "TypeError",
     "evalue": "unhashable type: 'list'",
     "output_type": "error",
     "traceback": [
      "\u001b[0;31m---------------------------------------------------------------------------\u001b[0m",
      "\u001b[0;31mTypeError\u001b[0m                                 Traceback (most recent call last)",
      "\u001b[0;32m<ipython-input-10-7f0c73a86aa1>\u001b[0m in \u001b[0;36m<module>\u001b[0;34m\u001b[0m\n\u001b[0;32m----> 1\u001b[0;31m \u001b[0mwebstersDict\u001b[0m\u001b[0;34m[\u001b[0m\u001b[0;34m[\u001b[0m\u001b[0;34m'sock'\u001b[0m\u001b[0;34m]\u001b[0m\u001b[0;34m]\u001b[0m \u001b[0;34m=\u001b[0m \u001b[0;34m'a short stocking usually reaching to the calf or just above the ankle.'\u001b[0m\u001b[0;34m\u001b[0m\u001b[0;34m\u001b[0m\u001b[0m\n\u001b[0m",
      "\u001b[0;31mTypeError\u001b[0m: unhashable type: 'list'"
     ]
    }
   ],
   "source": [
    "webstersDict[['sock']] = 'a short stocking usually reaching to the calf or just above the ankle.'\n"
   ]
  },
  {
   "cell_type": "markdown",
   "metadata": {},
   "source": [
    "### 3. Returning values for a given key using the get() method\n",
    "\n",
    "* This is so valuable in the word count task\n",
    "\n"
   ]
  },
  {
   "cell_type": "code",
   "execution_count": 11,
   "metadata": {},
   "outputs": [],
   "source": [
    "# incorporate into get example and such below. \n",
    "storyCount = {'is': 100, 'the': 90, 'Michael': 12, 'runs': 5}"
   ]
  },
  {
   "cell_type": "code",
   "execution_count": 12,
   "metadata": {},
   "outputs": [
    {
     "data": {
      "text/plain": [
       "{'is': 100, 'the': 90, 'Michael': 12, 'runs': 5}"
      ]
     },
     "execution_count": 12,
     "metadata": {},
     "output_type": "execute_result"
    }
   ],
   "source": [
    "storyCount"
   ]
  },
  {
   "cell_type": "code",
   "execution_count": 13,
   "metadata": {},
   "outputs": [
    {
     "ename": "KeyError",
     "evalue": "'run'",
     "output_type": "error",
     "traceback": [
      "\u001b[0;31m---------------------------------------------------------------------------\u001b[0m",
      "\u001b[0;31mKeyError\u001b[0m                                  Traceback (most recent call last)",
      "\u001b[0;32m<ipython-input-13-534417d96dd3>\u001b[0m in \u001b[0;36m<module>\u001b[0;34m\u001b[0m\n\u001b[1;32m      1\u001b[0m \u001b[0;31m# key error for keys that do not exist\u001b[0m\u001b[0;34m\u001b[0m\u001b[0;34m\u001b[0m\u001b[0;34m\u001b[0m\u001b[0m\n\u001b[0;32m----> 2\u001b[0;31m \u001b[0mstoryCount\u001b[0m\u001b[0;34m[\u001b[0m\u001b[0;34m'run'\u001b[0m\u001b[0;34m]\u001b[0m\u001b[0;34m\u001b[0m\u001b[0;34m\u001b[0m\u001b[0m\n\u001b[0m",
      "\u001b[0;31mKeyError\u001b[0m: 'run'"
     ]
    }
   ],
   "source": [
    "# key error for keys that do not exist\n",
    "storyCount['run']"
   ]
  },
  {
   "cell_type": "code",
   "execution_count": 15,
   "metadata": {},
   "outputs": [
    {
     "data": {
      "text/plain": [
       "12"
      ]
     },
     "execution_count": 15,
     "metadata": {},
     "output_type": "execute_result"
    }
   ],
   "source": [
    "# if key doesnt exist, \n",
    "# specify default value for keys that dont exist. \n",
    "# returns value for key you enter if it is in dictionary\n",
    "# else it returns the value you have for default\n",
    "storyCount.get('Michael', 0)"
   ]
  },
  {
   "cell_type": "code",
   "execution_count": 16,
   "metadata": {},
   "outputs": [
    {
     "name": "stdout",
     "output_type": "stream",
     "text": [
      "None\n"
     ]
    }
   ],
   "source": [
    "# When you dont set default value for key that doesnt exist, \n",
    "# it defaults to none\n",
    "print(storyCount.get('run'))"
   ]
  },
  {
   "cell_type": "code",
   "execution_count": 17,
   "metadata": {},
   "outputs": [
    {
     "name": "stdout",
     "output_type": "stream",
     "text": [
      "0\n"
     ]
    }
   ],
   "source": [
    "# Making default value for key that doesn't exist 0. \n",
    "print(storyCount.get('run', 0))"
   ]
  },
  {
   "cell_type": "markdown",
   "metadata": {},
   "source": [
    "### 4. Remove key, return the Value\n"
   ]
  },
  {
   "cell_type": "code",
   "execution_count": 18,
   "metadata": {},
   "outputs": [
    {
     "name": "stdout",
     "output_type": "stream",
     "text": [
      "90\n"
     ]
    }
   ],
   "source": [
    "count = storyCount.pop('the')\n",
    "print(count)"
   ]
  },
  {
   "cell_type": "code",
   "execution_count": 19,
   "metadata": {},
   "outputs": [
    {
     "data": {
      "text/plain": [
       "{'is': 100, 'Michael': 12, 'runs': 5}"
      ]
     },
     "execution_count": 19,
     "metadata": {},
     "output_type": "execute_result"
    }
   ],
   "source": [
    "storyCount"
   ]
  },
  {
   "cell_type": "markdown",
   "metadata": {},
   "source": [
    "### 5. Iterating through dictionaries\n"
   ]
  },
  {
   "cell_type": "code",
   "execution_count": 20,
   "metadata": {},
   "outputs": [
    {
     "name": "stdout",
     "output_type": "stream",
     "text": [
      "dict_keys(['is', 'Michael', 'runs'])\n"
     ]
    }
   ],
   "source": [
    "# return keys in dictionary\n",
    "print(storyCount.keys())"
   ]
  },
  {
   "cell_type": "code",
   "execution_count": 21,
   "metadata": {},
   "outputs": [
    {
     "name": "stdout",
     "output_type": "stream",
     "text": [
      "dict_values([100, 12, 5])\n"
     ]
    }
   ],
   "source": [
    "# return values in dictionary\n",
    "print(storyCount.values())"
   ]
  },
  {
   "cell_type": "code",
   "execution_count": 22,
   "metadata": {},
   "outputs": [
    {
     "name": "stdout",
     "output_type": "stream",
     "text": [
      "is\n",
      "Michael\n",
      "runs\n"
     ]
    }
   ],
   "source": [
    "# iterate through keys\n",
    "for key in storyCount: \n",
    "    print(key)"
   ]
  },
  {
   "cell_type": "code",
   "execution_count": 23,
   "metadata": {},
   "outputs": [
    {
     "name": "stdout",
     "output_type": "stream",
     "text": [
      "person a human being, whether an adult or child\n",
      "marathon a running race that is about 26 miles\n",
      "run to move with haste; act quickly\n",
      "shoe an external covering for the human foot, usually of leather and consisting of a more or less stiff or heavy sole and a lighter upper part ending a short distance above, at, or below the ankle.\n",
      "shirt a long- or short-sleeved garment for the upper part of the body\n"
     ]
    }
   ],
   "source": [
    "# iterate through keys and values\n",
    "for key, value in webstersDict.items():\n",
    "    print(key, value)"
   ]
  },
  {
   "cell_type": "markdown",
   "metadata": {},
   "source": [
    "### 6. Count word frequency in text\n",
    "* using __collections.defaultdict()__"
   ]
  },
  {
   "cell_type": "code",
   "execution_count": 24,
   "metadata": {},
   "outputs": [],
   "source": [
    "import collections"
   ]
  },
  {
   "cell_type": "code",
   "execution_count": 25,
   "metadata": {},
   "outputs": [],
   "source": [
    "d = collections.defaultdict(int)\n",
    "s = 'tv future in the hands of viewers with home theatre systems plasma high-definition tvs \\\n",
    "and digital video recorders moving into the living room  the way people watch tv will be \\\n",
    "radically different in five years  time '"
   ]
  },
  {
   "cell_type": "code",
   "execution_count": 26,
   "metadata": {},
   "outputs": [],
   "source": [
    "for word in s.split():\n",
    "    d[word] += 1"
   ]
  },
  {
   "cell_type": "code",
   "execution_count": 27,
   "metadata": {},
   "outputs": [
    {
     "data": {
      "text/plain": [
       "dict_items([('tv', 2), ('future', 1), ('in', 2), ('the', 3), ('hands', 1), ('of', 1), ('viewers', 1), ('with', 1), ('home', 1), ('theatre', 1), ('systems', 1), ('plasma', 1), ('high-definition', 1), ('tvs', 1), ('and', 1), ('digital', 1), ('video', 1), ('recorders', 1), ('moving', 1), ('into', 1), ('living', 1), ('room', 1), ('way', 1), ('people', 1), ('watch', 1), ('will', 1), ('be', 1), ('radically', 1), ('different', 1), ('five', 1), ('years', 1), ('time', 1)])"
      ]
     },
     "execution_count": 27,
     "metadata": {},
     "output_type": "execute_result"
    }
   ],
   "source": [
    "d.items()"
   ]
  },
  {
   "cell_type": "code",
   "execution_count": 28,
   "metadata": {},
   "outputs": [
    {
     "data": {
      "text/plain": [
       "2"
      ]
     },
     "execution_count": 28,
     "metadata": {},
     "output_type": "execute_result"
    }
   ],
   "source": [
    "d.get('tv')"
   ]
  },
  {
   "cell_type": "markdown",
   "metadata": {},
   "source": [
    "### 7. Calculating with Dictionaries\n",
    "* perform various calculations(eg. min, max, sorting, etc) "
   ]
  },
  {
   "cell_type": "code",
   "execution_count": 29,
   "metadata": {},
   "outputs": [],
   "source": [
    "prices = {\n",
    "    'MSFT': 133.39,\n",
    "    'AAPL':202.64,\n",
    "    'SBUX':94.70,\n",
    "    'NFLX':291.44,\n",
    "    'FB':177.75\n",
    "}"
   ]
  },
  {
   "cell_type": "code",
   "execution_count": 30,
   "metadata": {},
   "outputs": [
    {
     "data": {
      "text/plain": [
       "(94.7, 'SBUX')"
      ]
     },
     "execution_count": 30,
     "metadata": {},
     "output_type": "execute_result"
    }
   ],
   "source": [
    "min_price = min(zip(prices.values(), prices.keys()))\n",
    "min_price"
   ]
  },
  {
   "cell_type": "code",
   "execution_count": 31,
   "metadata": {},
   "outputs": [
    {
     "data": {
      "text/plain": [
       "(291.44, 'NFLX')"
      ]
     },
     "execution_count": 31,
     "metadata": {},
     "output_type": "execute_result"
    }
   ],
   "source": [
    "max_price = max(zip(prices.values(), prices.keys()))\n",
    "max_price"
   ]
  },
  {
   "cell_type": "code",
   "execution_count": 32,
   "metadata": {},
   "outputs": [
    {
     "data": {
      "text/plain": [
       "[(94.7, 'SBUX'),\n",
       " (133.39, 'MSFT'),\n",
       " (177.75, 'FB'),\n",
       " (202.64, 'AAPL'),\n",
       " (291.44, 'NFLX')]"
      ]
     },
     "execution_count": 32,
     "metadata": {},
     "output_type": "execute_result"
    }
   ],
   "source": [
    "prices_sorted =  sorted(zip(prices.values(), prices.keys()))\n",
    "prices_sorted"
   ]
  },
  {
   "cell_type": "code",
   "execution_count": 33,
   "metadata": {},
   "outputs": [
    {
     "name": "stdout",
     "output_type": "stream",
     "text": [
      "AAPL\n",
      "SBUX\n"
     ]
    }
   ],
   "source": [
    "# if perform common data reductions on a dictionary, it will only process the keys, not the values\n",
    "print(min(prices))\n",
    "print(max(prices))"
   ]
  },
  {
   "cell_type": "code",
   "execution_count": 34,
   "metadata": {},
   "outputs": [
    {
     "name": "stdout",
     "output_type": "stream",
     "text": [
      "94.7\n",
      "291.44\n"
     ]
    }
   ],
   "source": [
    "#to fix this, using the values() method of a dict\n",
    "print(min(prices.values()))\n",
    "print(max(prices.values()))"
   ]
  },
  {
   "cell_type": "code",
   "execution_count": 35,
   "metadata": {},
   "outputs": [
    {
     "name": "stdout",
     "output_type": "stream",
     "text": [
      "SBUX\n",
      "NFLX\n"
     ]
    }
   ],
   "source": [
    "# to get the key corresponding to the min or max value \n",
    "print(min(prices, key = lambda k: prices[k]))\n",
    "print(max(prices, key = lambda k: prices[k]))"
   ]
  },
  {
   "cell_type": "markdown",
   "metadata": {},
   "source": [
    "### 8. Finding commonalities in two dictionaries"
   ]
  },
  {
   "cell_type": "code",
   "execution_count": 36,
   "metadata": {},
   "outputs": [],
   "source": [
    "a = {\n",
    "    'x': 1,\n",
    "    'y': 2,\n",
    "    'z': 3\n",
    "}\n",
    "\n",
    "b = {\n",
    "    'x': 11,\n",
    "    'y': 2,\n",
    "    'w': 30\n",
    "}\n",
    "\n"
   ]
  },
  {
   "cell_type": "code",
   "execution_count": 37,
   "metadata": {},
   "outputs": [
    {
     "data": {
      "text/plain": [
       "{'x', 'y'}"
      ]
     },
     "execution_count": 37,
     "metadata": {},
     "output_type": "execute_result"
    }
   ],
   "source": [
    "# find keys in common\n",
    "a.keys() & b.keys()"
   ]
  },
  {
   "cell_type": "code",
   "execution_count": 38,
   "metadata": {},
   "outputs": [
    {
     "data": {
      "text/plain": [
       "{'z'}"
      ]
     },
     "execution_count": 38,
     "metadata": {},
     "output_type": "execute_result"
    }
   ],
   "source": [
    "# find keys in a that not in b\n",
    "a.keys() - b.keys()"
   ]
  },
  {
   "cell_type": "code",
   "execution_count": 39,
   "metadata": {},
   "outputs": [
    {
     "data": {
      "text/plain": [
       "{('y', 2)}"
      ]
     },
     "execution_count": 39,
     "metadata": {},
     "output_type": "execute_result"
    }
   ],
   "source": [
    "# find (key, value) pairs in common\n",
    "a.items() & b.items()"
   ]
  },
  {
   "cell_type": "markdown",
   "metadata": {},
   "source": [
    "### 9. Extracting a subset of a dictionary"
   ]
  },
  {
   "cell_type": "code",
   "execution_count": 40,
   "metadata": {},
   "outputs": [
    {
     "data": {
      "text/plain": [
       "{'AAPL': 202.64, 'NFLX': 291.44}"
      ]
     },
     "execution_count": 40,
     "metadata": {},
     "output_type": "execute_result"
    }
   ],
   "source": [
    "# make a dictionary of all prices over 200\n",
    "p1 = {key:value for key, value in prices.items() if value>200}\n",
    "p1"
   ]
  },
  {
   "cell_type": "code",
   "execution_count": 41,
   "metadata": {},
   "outputs": [
    {
     "data": {
      "text/plain": [
       "{'MSFT': 133.39, 'AAPL': 202.64, 'NFLX': 291.44, 'FB': 177.75}"
      ]
     },
     "execution_count": 41,
     "metadata": {},
     "output_type": "execute_result"
    }
   ],
   "source": [
    "# make a dictionary of tech stocks\n",
    "tech_names = {'AAPL', 'IBM', 'HPQ', 'MSFT', 'FB', 'NFLX'}\n",
    "p2 = {key:value for key, value in prices.items() if key in tech_names}\n",
    "p2"
   ]
  },
  {
   "cell_type": "markdown",
   "metadata": {},
   "source": [
    "### 10. Sorting a list of dictionaries by a common key\n",
    "* __itemgetter__ function from the operator module"
   ]
  },
  {
   "cell_type": "code",
   "execution_count": 42,
   "metadata": {},
   "outputs": [],
   "source": [
    "from operator import itemgetter"
   ]
  },
  {
   "cell_type": "code",
   "execution_count": 43,
   "metadata": {},
   "outputs": [],
   "source": [
    "rows = [\n",
    "    {'fname': 'Gordon', 'lname': 'Simpson', 'uid':1003},\n",
    "    {'fname': 'Stephanie', 'lname': 'Rampling', 'uid':1002},\n",
    "    {'fname': 'Warren', 'lname': 'Kelly', 'uid':1001},\n",
    "    {'fname': 'Lily', 'lname': 'Welch', 'uid':1004}\n",
    "]"
   ]
  },
  {
   "cell_type": "code",
   "execution_count": 44,
   "metadata": {},
   "outputs": [
    {
     "data": {
      "text/plain": [
       "[{'fname': 'Gordon', 'lname': 'Simpson', 'uid': 1003},\n",
       " {'fname': 'Lily', 'lname': 'Welch', 'uid': 1004},\n",
       " {'fname': 'Stephanie', 'lname': 'Rampling', 'uid': 1002},\n",
       " {'fname': 'Warren', 'lname': 'Kelly', 'uid': 1001}]"
      ]
     },
     "execution_count": 44,
     "metadata": {},
     "output_type": "execute_result"
    }
   ],
   "source": [
    "rows_by_fname = sorted(rows, key=itemgetter('fname'))\n",
    "rows_by_fname"
   ]
  },
  {
   "cell_type": "code",
   "execution_count": 45,
   "metadata": {},
   "outputs": [
    {
     "data": {
      "text/plain": [
       "[{'fname': 'Warren', 'lname': 'Kelly', 'uid': 1001},\n",
       " {'fname': 'Stephanie', 'lname': 'Rampling', 'uid': 1002},\n",
       " {'fname': 'Gordon', 'lname': 'Simpson', 'uid': 1003},\n",
       " {'fname': 'Lily', 'lname': 'Welch', 'uid': 1004}]"
      ]
     },
     "execution_count": 45,
     "metadata": {},
     "output_type": "execute_result"
    }
   ],
   "source": [
    "rows_by_uid = sorted(rows, key=itemgetter('uid'))\n",
    "rows_by_uid"
   ]
  },
  {
   "cell_type": "code",
   "execution_count": 46,
   "metadata": {},
   "outputs": [
    {
     "data": {
      "text/plain": [
       "[{'fname': 'Gordon', 'lname': 'Simpson', 'uid': 1003},\n",
       " {'fname': 'Lily', 'lname': 'Welch', 'uid': 1004},\n",
       " {'fname': 'Stephanie', 'lname': 'Rampling', 'uid': 1002},\n",
       " {'fname': 'Warren', 'lname': 'Kelly', 'uid': 1001}]"
      ]
     },
     "execution_count": 46,
     "metadata": {},
     "output_type": "execute_result"
    }
   ],
   "source": [
    "# itemgetter can accept multiple keys\n",
    "rows_by_lfnames = sorted(rows, key=itemgetter('fname','lname'))\n",
    "rows_by_lfnames"
   ]
  },
  {
   "cell_type": "code",
   "execution_count": 47,
   "metadata": {},
   "outputs": [
    {
     "data": {
      "text/plain": [
       "[{'fname': 'Warren', 'lname': 'Kelly', 'uid': 1001},\n",
       " {'fname': 'Stephanie', 'lname': 'Rampling', 'uid': 1002},\n",
       " {'fname': 'Gordon', 'lname': 'Simpson', 'uid': 1003},\n",
       " {'fname': 'Lily', 'lname': 'Welch', 'uid': 1004}]"
      ]
     },
     "execution_count": 47,
     "metadata": {},
     "output_type": "execute_result"
    }
   ],
   "source": [
    "# using lambda expression to sort, itemgetter() runs a bit faster\n",
    "sorted(rows, key=lambda r: r['uid'])"
   ]
  },
  {
   "cell_type": "code",
   "execution_count": 48,
   "metadata": {},
   "outputs": [
    {
     "data": {
      "text/plain": [
       "[{'fname': 'Warren', 'lname': 'Kelly', 'uid': 1001},\n",
       " {'fname': 'Stephanie', 'lname': 'Rampling', 'uid': 1002},\n",
       " {'fname': 'Gordon', 'lname': 'Simpson', 'uid': 1003},\n",
       " {'fname': 'Lily', 'lname': 'Welch', 'uid': 1004}]"
      ]
     },
     "execution_count": 48,
     "metadata": {},
     "output_type": "execute_result"
    }
   ],
   "source": [
    "sorted(rows, key=lambda r: (r['lname'], r['fname']))"
   ]
  },
  {
   "cell_type": "code",
   "execution_count": 49,
   "metadata": {},
   "outputs": [
    {
     "data": {
      "text/plain": [
       "{'fname': 'Warren', 'lname': 'Kelly', 'uid': 1001}"
      ]
     },
     "execution_count": 49,
     "metadata": {},
     "output_type": "execute_result"
    }
   ],
   "source": [
    "min(rows, key=itemgetter('uid'))"
   ]
  },
  {
   "cell_type": "code",
   "execution_count": 50,
   "metadata": {},
   "outputs": [
    {
     "data": {
      "text/plain": [
       "{'fname': 'Lily', 'lname': 'Welch', 'uid': 1004}"
      ]
     },
     "execution_count": 50,
     "metadata": {},
     "output_type": "execute_result"
    }
   ],
   "source": [
    "max(rows, key=itemgetter('uid'))"
   ]
  },
  {
   "cell_type": "markdown",
   "metadata": {},
   "source": [
    "### 11. Grouping records together based on field\n",
    "* __itertools.groupby()__ function"
   ]
  },
  {
   "cell_type": "code",
   "execution_count": 51,
   "metadata": {},
   "outputs": [],
   "source": [
    "import itertools"
   ]
  },
  {
   "cell_type": "code",
   "execution_count": 52,
   "metadata": {},
   "outputs": [],
   "source": [
    "records = [\n",
    "    {'address' : '2185 Southside Lane', 'date': '07/01/2017'},\n",
    "    {'address' : '1661 Hillhaven Drive', 'date': '07/03/2017'},\n",
    "    {'address' : '8262 Pin Oak Drive', 'date': '07/02/2017'},\n",
    "    {'address' : '3776 Euclid Avenue', 'date': '07/04/2017'},\n",
    "    {'address' : '2336 Bel Meadow Drive', 'date': '07/01/2017'},\n",
    "    {'address' : '2773 Gateway Avenue', 'date': '07/03/2017'},\n",
    "    {'address' : '3413 Park Drive', 'date': '07/04/2017'},\n",
    "    {'address' : '2121 Rardin Drive', 'date': '07/02/2017'},\n",
    "    {'address' : '774 Aviation Wayt', 'date': '07/01/2017'},\n",
    "]"
   ]
  },
  {
   "cell_type": "code",
   "execution_count": 53,
   "metadata": {},
   "outputs": [],
   "source": [
    "#sort by desired field first, as groupby() only examines consecutive items\n",
    "records.sort(key=itemgetter('date'))"
   ]
  },
  {
   "cell_type": "code",
   "execution_count": 54,
   "metadata": {},
   "outputs": [
    {
     "name": "stdout",
     "output_type": "stream",
     "text": [
      "07/01/2017\n",
      "   {'address': '2185 Southside Lane', 'date': '07/01/2017'}\n",
      "   {'address': '2336 Bel Meadow Drive', 'date': '07/01/2017'}\n",
      "   {'address': '774 Aviation Wayt', 'date': '07/01/2017'}\n",
      "07/02/2017\n",
      "   {'address': '8262 Pin Oak Drive', 'date': '07/02/2017'}\n",
      "   {'address': '2121 Rardin Drive', 'date': '07/02/2017'}\n",
      "07/03/2017\n",
      "   {'address': '1661 Hillhaven Drive', 'date': '07/03/2017'}\n",
      "   {'address': '2773 Gateway Avenue', 'date': '07/03/2017'}\n",
      "07/04/2017\n",
      "   {'address': '3776 Euclid Avenue', 'date': '07/04/2017'}\n",
      "   {'address': '3413 Park Drive', 'date': '07/04/2017'}\n"
     ]
    }
   ],
   "source": [
    "# iterate in groups\n",
    "for date, items in itertools.groupby(records, key=itemgetter('date')):\n",
    "    print(date)\n",
    "    for i in items:\n",
    "        print('  ', i)"
   ]
  },
  {
   "cell_type": "code",
   "execution_count": 55,
   "metadata": {},
   "outputs": [],
   "source": [
    "# or if the goal is simply group the data together by date into a large data structure that\n",
    "# allows random access, use defaultdict() to build a multidict\n",
    "import collections"
   ]
  },
  {
   "cell_type": "code",
   "execution_count": 56,
   "metadata": {},
   "outputs": [],
   "source": [
    "records_by_date = collections.defaultdict(list)\n",
    "for record in records:\n",
    "    records_by_date[record['date']].append(record)"
   ]
  },
  {
   "cell_type": "code",
   "execution_count": 57,
   "metadata": {},
   "outputs": [
    {
     "data": {
      "text/plain": [
       "defaultdict(list,\n",
       "            {'07/01/2017': [{'address': '2185 Southside Lane',\n",
       "               'date': '07/01/2017'},\n",
       "              {'address': '2336 Bel Meadow Drive', 'date': '07/01/2017'},\n",
       "              {'address': '774 Aviation Wayt', 'date': '07/01/2017'}],\n",
       "             '07/02/2017': [{'address': '8262 Pin Oak Drive',\n",
       "               'date': '07/02/2017'},\n",
       "              {'address': '2121 Rardin Drive', 'date': '07/02/2017'}],\n",
       "             '07/03/2017': [{'address': '1661 Hillhaven Drive',\n",
       "               'date': '07/03/2017'},\n",
       "              {'address': '2773 Gateway Avenue', 'date': '07/03/2017'}],\n",
       "             '07/04/2017': [{'address': '3776 Euclid Avenue',\n",
       "               'date': '07/04/2017'},\n",
       "              {'address': '3413 Park Drive', 'date': '07/04/2017'}]})"
      ]
     },
     "execution_count": 57,
     "metadata": {},
     "output_type": "execute_result"
    }
   ],
   "source": [
    "records_by_date"
   ]
  },
  {
   "cell_type": "markdown",
   "metadata": {},
   "source": [
    "### 12. Combining multiple mappings into a single mapping\n",
    "* collections.ChainMap\n",
    "* update()"
   ]
  },
  {
   "cell_type": "code",
   "execution_count": 58,
   "metadata": {},
   "outputs": [],
   "source": [
    "a = {'x':1, 'z':3}\n",
    "b = {'y':2, 'z':4}"
   ]
  },
  {
   "cell_type": "code",
   "execution_count": 59,
   "metadata": {},
   "outputs": [
    {
     "name": "stdout",
     "output_type": "stream",
     "text": [
      "1\n",
      "2\n",
      "3\n"
     ]
    }
   ],
   "source": [
    "c = collections.ChainMap(a,b)\n",
    "print(c['x'])\n",
    "print(c['y'])\n",
    "print(c['z']) # if there are duplicate keys, the values from the first mapping get used"
   ]
  },
  {
   "cell_type": "code",
   "execution_count": 60,
   "metadata": {},
   "outputs": [
    {
     "data": {
      "text/plain": [
       "3"
      ]
     },
     "execution_count": 60,
     "metadata": {},
     "output_type": "execute_result"
    }
   ],
   "source": [
    "len(c)"
   ]
  },
  {
   "cell_type": "code",
   "execution_count": 61,
   "metadata": {},
   "outputs": [
    {
     "data": {
      "text/plain": [
       "['y', 'z', 'x']"
      ]
     },
     "execution_count": 61,
     "metadata": {},
     "output_type": "execute_result"
    }
   ],
   "source": [
    "list(c.keys())"
   ]
  },
  {
   "cell_type": "code",
   "execution_count": 62,
   "metadata": {},
   "outputs": [
    {
     "data": {
      "text/plain": [
       "[2, 3, 1]"
      ]
     },
     "execution_count": 62,
     "metadata": {},
     "output_type": "execute_result"
    }
   ],
   "source": [
    "list(c.values())"
   ]
  },
  {
   "cell_type": "code",
   "execution_count": 63,
   "metadata": {},
   "outputs": [
    {
     "data": {
      "text/plain": [
       "ChainMap({'x': 1, 'z': 10, 'w': 40}, {'y': 2, 'z': 4})"
      ]
     },
     "execution_count": 63,
     "metadata": {},
     "output_type": "execute_result"
    }
   ],
   "source": [
    "# operation that mutate the mapping always affect the first mapping listed\n",
    "c['z'] = 10\n",
    "c['w'] = 40\n",
    "c"
   ]
  },
  {
   "cell_type": "code",
   "execution_count": 64,
   "metadata": {},
   "outputs": [
    {
     "data": {
      "text/plain": [
       "ChainMap({'z': 10, 'w': 40}, {'y': 2, 'z': 4})"
      ]
     },
     "execution_count": 64,
     "metadata": {},
     "output_type": "execute_result"
    }
   ],
   "source": [
    "del c['x']\n",
    "c"
   ]
  },
  {
   "cell_type": "code",
   "execution_count": 65,
   "metadata": {},
   "outputs": [
    {
     "data": {
      "text/plain": [
       "{'z': 10, 'w': 40}"
      ]
     },
     "execution_count": 65,
     "metadata": {},
     "output_type": "execute_result"
    }
   ],
   "source": [
    "a"
   ]
  },
  {
   "cell_type": "code",
   "execution_count": 66,
   "metadata": {},
   "outputs": [
    {
     "data": {
      "text/plain": [
       "ChainMap({'x': 3}, {'x': 2}, {'x': 1})"
      ]
     },
     "execution_count": 66,
     "metadata": {},
     "output_type": "execute_result"
    }
   ],
   "source": [
    "# chainmap is particularly useful when working with scoped values\n",
    "values = collections.ChainMap()\n",
    "values['x'] = 1\n",
    "values = values.new_child()  # add new mapping\n",
    "values['x'] = 2\n",
    "values = values.new_child()  # add new mapping\n",
    "values['x'] = 3\n",
    "values"
   ]
  },
  {
   "cell_type": "code",
   "execution_count": 67,
   "metadata": {},
   "outputs": [
    {
     "data": {
      "text/plain": [
       "3"
      ]
     },
     "execution_count": 67,
     "metadata": {},
     "output_type": "execute_result"
    }
   ],
   "source": [
    "values['x']"
   ]
  },
  {
   "cell_type": "code",
   "execution_count": 68,
   "metadata": {},
   "outputs": [
    {
     "data": {
      "text/plain": [
       "ChainMap({'x': 2}, {'x': 1})"
      ]
     },
     "execution_count": 68,
     "metadata": {},
     "output_type": "execute_result"
    }
   ],
   "source": [
    "values = values.parents    #discard last mapping\n",
    "values"
   ]
  },
  {
   "cell_type": "code",
   "execution_count": 69,
   "metadata": {},
   "outputs": [
    {
     "data": {
      "text/plain": [
       "ChainMap({'x': 1})"
      ]
     },
     "execution_count": 69,
     "metadata": {},
     "output_type": "execute_result"
    }
   ],
   "source": [
    "values = values.parents    #discard last mapping\n",
    "values"
   ]
  },
  {
   "cell_type": "code",
   "execution_count": 70,
   "metadata": {},
   "outputs": [],
   "source": [
    "# merge dictionaries together using the update() method\n",
    "a = {'x':1, 'z':3}\n",
    "b = {'y':2, 'z':4}"
   ]
  },
  {
   "cell_type": "code",
   "execution_count": 71,
   "metadata": {},
   "outputs": [
    {
     "data": {
      "text/plain": [
       "{'y': 2, 'z': 3, 'x': 1}"
      ]
     },
     "execution_count": 71,
     "metadata": {},
     "output_type": "execute_result"
    }
   ],
   "source": [
    "# requires to make a completely separate dictionary object\n",
    "# or destructively alter one of the existing dictionary\n",
    "merged = dict(b)\n",
    "merged.update(a)\n",
    "merged"
   ]
  },
  {
   "cell_type": "code",
   "execution_count": null,
   "metadata": {},
   "outputs": [],
   "source": []
  }
 ],
 "metadata": {
  "kernelspec": {
   "display_name": "Python 3",
   "language": "python",
   "name": "python3"
  },
  "language_info": {
   "codemirror_mode": {
    "name": "ipython",
    "version": 3
   },
   "file_extension": ".py",
   "mimetype": "text/x-python",
   "name": "python",
   "nbconvert_exporter": "python",
   "pygments_lexer": "ipython3",
   "version": "3.7.1"
  }
 },
 "nbformat": 4,
 "nbformat_minor": 2
}
