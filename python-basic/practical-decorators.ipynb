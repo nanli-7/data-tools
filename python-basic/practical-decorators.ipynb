{
 "cells": [
  {
   "cell_type": "code",
   "execution_count": 1,
   "metadata": {
    "collapsed": true
   },
   "outputs": [],
   "source": [
    "# Change directory to VSCode workspace root so that relative path loads work correctly. Turn this addition off with the DataScience.changeDirOnImportExport setting\n",
    "# ms-python.python added\n",
    "import os\n",
    "try:\n",
    "\tos.chdir(os.path.join(os.getcwd(), '../../python-tools'))\n",
    "\tprint(os.getcwd())\n",
    "except:\n",
    "\tpass\n"
   ]
  },
  {
   "cell_type": "markdown",
   "metadata": {},
   "source": [
    "  ### 1. Timing\n",
    "\n",
    "  * How long does it take for a function to run?"
   ]
  },
  {
   "cell_type": "markdown",
   "metadata": {},
   "source": [
    "  ```\n",
    "  * The inner function (“wrapper”) will run the original function\n",
    "  * But it’ll keep track of the time before and after doing so.\n",
    "  * Before returning the result to the user, write the timing information to a logfile\n",
    "  ```"
   ]
  },
  {
   "cell_type": "code",
   "execution_count": 2,
   "metadata": {
    "collapsed": true
   },
   "outputs": [],
   "source": [
    "import time\n",
    "import functools\n",
    "\n"
   ]
  },
  {
   "cell_type": "code",
   "execution_count": 3,
   "metadata": {
    "collapsed": true
   },
   "outputs": [],
   "source": [
    "def logtime(func):\n",
    "\n",
    "    def wrapper(*args, **kwargs):\n",
    "\n",
    "        start_time = time.time()\n",
    "        result = func(*args, **kwargs)\n",
    "        total_time = time.time() - start_time\n",
    "\n",
    "        with open('timelog.txt', 'a') as outfile:\n",
    "            outfile.write(f'{time.time()}\\t{func.__name__}\\t{total_time}\\n')\n",
    "\n",
    "        return result\n",
    "\n",
    "    return wrapper\n",
    "\n",
    "\n"
   ]
  },
  {
   "cell_type": "code",
   "execution_count": 4,
   "metadata": {
    "collapsed": true
   },
   "outputs": [],
   "source": [
    "@logtime\n",
    "\n",
    "def slow_add(a, b):\n",
    "    time.sleep(2)\n",
    "    return a + b\n",
    "\n",
    "\n"
   ]
  },
  {
   "cell_type": "code",
   "execution_count": 5,
   "metadata": {
    "collapsed": true
   },
   "outputs": [],
   "source": [
    "@logtime\n",
    "\n",
    "def slow_mul(a, b):\n",
    "    time.sleep(3)\n",
    "    return a * b\n",
    "\n",
    "\n"
   ]
  },
  {
   "cell_type": "code",
   "execution_count": 6,
   "metadata": {
    "collapsed": false
   },
   "outputs": [
    {
     "data": {
      "text/plain": [
       "200"
      ]
     },
     "execution_count": 6,
     "metadata": {},
     "output_type": "execute_result"
    }
   ],
   "source": [
    "# test function\n",
    "slow_add(100,100)\n"
   ]
  },
  {
   "cell_type": "markdown",
   "metadata": {},
   "source": [
    "  records from timelogs:\n",
    "\n",
    "  1565464610.880044\tslow_add\t2.0048961639404297\n"
   ]
  },
  {
   "cell_type": "code",
   "execution_count": 7,
   "metadata": {
    "collapsed": true
   },
   "outputs": [],
   "source": [
    "# alternative method\n",
    "def timethis(func):\n",
    "    '''\n",
    "    decortor that reports the execution time.\n",
    "    '''\n",
    "    @functools.wraps(func)  \n",
    "    def wrapper(*args, **kwargs):\n",
    "        start = time.time()\n",
    "        result = func(*args, **kwargs)\n",
    "        end = time.time()\n",
    "        print(func.__name__, end-start)\n",
    "        return result\n",
    "    return wrapper\n",
    "\n"
   ]
  },
  {
   "cell_type": "code",
   "execution_count": 8,
   "metadata": {
    "collapsed": true
   },
   "outputs": [],
   "source": [
    "@timethis\n",
    "def countdown(n):\n",
    "    '''\n",
    "    counts down\n",
    "    '''\n",
    "    while n > 0:\n",
    "        n -= 1\n",
    "\n"
   ]
  },
  {
   "cell_type": "code",
   "execution_count": 9,
   "metadata": {
    "collapsed": false
   },
   "outputs": [
    {
     "name": "stdout",
     "output_type": "stream",
     "text": [
      "countdown 0.0009968280792236328\n"
     ]
    }
   ],
   "source": [
    "countdown(10000)\n"
   ]
  },
  {
   "cell_type": "markdown",
   "metadata": {},
   "source": [
    "  ### 2. Run function once per minute\n",
    "\n",
    "  * Raise an exception if we try to run a function more than once in 60 seconds"
   ]
  },
  {
   "cell_type": "code",
   "execution_count": 10,
   "metadata": {
    "collapsed": true
   },
   "outputs": [],
   "source": [
    "def once_per_minute(func):\n",
    "\n",
    "    last_invoked = 0\n",
    "\n",
    "    def wrapper(*args, **kwargs):\n",
    "\n",
    "        nonlocal last_invoked\n",
    "\n",
    "        elapsed_time = time.time() - last_invoked\n",
    "\n",
    "        if elapsed_time < 60:\n",
    "\n",
    "            raise RuntimeError(f\"Only {elapsed_time} has passed\")\n",
    "\n",
    "        last_invoked = time.time()\n",
    "\n",
    "        return func(*args, **kwargs)\n",
    "\n",
    "    return wrapper\n",
    "\n",
    "\n"
   ]
  },
  {
   "cell_type": "code",
   "execution_count": 11,
   "metadata": {
    "collapsed": true
   },
   "outputs": [],
   "source": [
    "@once_per_minute\n",
    "\n",
    "def add(a, b):\n",
    "    return a + b\n",
    "\n",
    "\n"
   ]
  },
  {
   "cell_type": "code",
   "execution_count": 12,
   "metadata": {
    "collapsed": false
   },
   "outputs": [
    {
     "data": {
      "text/plain": [
       "5"
      ]
     },
     "execution_count": 12,
     "metadata": {},
     "output_type": "execute_result"
    }
   ],
   "source": [
    "add(2,3)\n",
    "\n"
   ]
  },
  {
   "cell_type": "code",
   "execution_count": 13,
   "metadata": {
    "collapsed": true
   },
   "outputs": [],
   "source": [
    "#  add(2,3)\n",
    "\n",
    "#  ---------------------------------------------------------------------------\n",
    "#  RuntimeError                              Traceback (most recent call last)\n",
    "#   in\n",
    "#  ----> 1 add(2,3)\n",
    "#   in wrapper(*args, **kwargs)\n",
    "#       11         if elapsed_time < 60:\n",
    "#       12\n",
    "#  ---> 13             raise RuntimeError(f\"Only {elapsed_time} has passed\")\n",
    "#       14\n",
    "#       15         last_invoked = time.time()\n",
    "#  RuntimeError: Only 10.496497869491577 has passed\n"
   ]
  },
  {
   "cell_type": "markdown",
   "metadata": {},
   "source": [
    "  ### 3. Perform function per N seconds\n",
    "  * Raise an exception if we try to run a function more than once in n seconds"
   ]
  },
  {
   "cell_type": "code",
   "execution_count": 14,
   "metadata": {
    "collapsed": true
   },
   "outputs": [],
   "source": [
    "def once_per_n(n):\n",
    "\n",
    "    def middle(func):\n",
    "        last_invoked = 0\n",
    "\n",
    "        def wrapper(*args, **kwargs):\n",
    "            nonlocal last_invoked\n",
    "            elapsed_time = time.time() - last_invoked\n",
    "            if elapsed_time < n:\n",
    "                raise RuntimeError(f\"Only {elapsed_time} has passed\")\n",
    "\n",
    "            last_invoked = time.time()\n",
    "            return func(*args, **kwargs)\n",
    "\n",
    "        return wrapper\n",
    "\n",
    "    return middle\n",
    "\n",
    "\n"
   ]
  },
  {
   "cell_type": "code",
   "execution_count": 15,
   "metadata": {
    "collapsed": true
   },
   "outputs": [],
   "source": [
    "@once_per_n(10)\n",
    "\n",
    "def add(a, b):\n",
    "    return a + b\n",
    "\n",
    "\n"
   ]
  },
  {
   "cell_type": "code",
   "execution_count": 16,
   "metadata": {
    "collapsed": false
   },
   "outputs": [
    {
     "data": {
      "text/plain": [
       "5"
      ]
     },
     "execution_count": 16,
     "metadata": {},
     "output_type": "execute_result"
    }
   ],
   "source": [
    "add(2,3)\n",
    "\n"
   ]
  },
  {
   "cell_type": "code",
   "execution_count": 17,
   "metadata": {
    "collapsed": true
   },
   "outputs": [],
   "source": [
    "#  add(2,3)\n",
    "\n",
    "#  ---------------------------------------------------------------------------\n",
    "#  RuntimeError                              Traceback (most recent call last)\n",
    "#   in\n",
    "#  ----> 1 add(2,3)\n",
    "#   in wrapper(*args, **kwargs)\n",
    "#        8             elapsed_time = time.time() - last_invoked\n",
    "#        9             if elapsed_time < n:\n",
    "#  ---> 10                 raise RuntimeError(f\"Only {elapsed_time} has passed\")\n",
    "#       11\n",
    "#       12             last_invoked = time.time()\n",
    "#  RuntimeError: Only 0.025335073471069336 has passed\n",
    "#  "
   ]
  },
  {
   "cell_type": "markdown",
   "metadata": {},
   "source": [
    "  ### 4. Memoization\n",
    "  * Cache the results of function calls, so we don’t need to call them again"
   ]
  },
  {
   "cell_type": "code",
   "execution_count": 18,
   "metadata": {
    "collapsed": true
   },
   "outputs": [],
   "source": [
    "import pickle\n",
    "\n",
    "\n"
   ]
  },
  {
   "cell_type": "code",
   "execution_count": 19,
   "metadata": {
    "collapsed": true
   },
   "outputs": [],
   "source": [
    "# Executes each time the decorated function is executed\n",
    "def memoize(func):\n",
    "    cache = {}\n",
    "\n",
    "    # Executes each time the decorated function is executed\n",
    "    def wrapper(*args, **kwargs):\n",
    "        t = (pickle.dumps(args), pickle.dumps(kwargs))\n",
    "        if t not in cache:\n",
    "            print(f\"Caching NEW value for {func.__name__}{args}\")\n",
    "            cache[t] = func(*args, **kwargs)\n",
    "        else:\n",
    "            print(f\"Using OLD value for {func.__name__}{args}\")\n",
    "\n",
    "        return cache[t]\n",
    "\n",
    "    return wrapper\n",
    "\n",
    "\n"
   ]
  },
  {
   "cell_type": "code",
   "execution_count": 20,
   "metadata": {
    "collapsed": true
   },
   "outputs": [],
   "source": [
    "@memoize\n",
    "def add(a, b):\n",
    "    print(\"Running add!\")\n",
    "    return a + b\n",
    "\n",
    "\n"
   ]
  },
  {
   "cell_type": "code",
   "execution_count": 21,
   "metadata": {
    "collapsed": true
   },
   "outputs": [],
   "source": [
    "@memoize\n",
    "def mul(a, b):\n",
    "    print(\"Running mul!\")\n",
    "    return a * b\n",
    "\n",
    "\n"
   ]
  },
  {
   "cell_type": "code",
   "execution_count": 22,
   "metadata": {
    "collapsed": false
   },
   "outputs": [
    {
     "name": "stdout",
     "output_type": "stream",
     "text": [
      "Caching NEW value for add(2, 2)\n",
      "Running add!\n"
     ]
    },
    {
     "data": {
      "text/plain": [
       "4"
      ]
     },
     "execution_count": 22,
     "metadata": {},
     "output_type": "execute_result"
    }
   ],
   "source": [
    "add(2,2)\n",
    "\n",
    "\n"
   ]
  },
  {
   "cell_type": "code",
   "execution_count": 23,
   "metadata": {
    "collapsed": false
   },
   "outputs": [
    {
     "name": "stdout",
     "output_type": "stream",
     "text": [
      "Using OLD value for add(2, 2)\n"
     ]
    },
    {
     "data": {
      "text/plain": [
       "4"
      ]
     },
     "execution_count": 23,
     "metadata": {},
     "output_type": "execute_result"
    }
   ],
   "source": [
    "add(2,2)\n"
   ]
  },
  {
   "cell_type": "markdown",
   "metadata": {},
   "source": [
    "  ### 5. Attributes\n",
    "  * Give many objects the same attributes, but without using inheritance"
   ]
  },
  {
   "cell_type": "code",
   "execution_count": 24,
   "metadata": {
    "collapsed": true
   },
   "outputs": [],
   "source": [
    "def fancy_repr(self):\n",
    "    return f\"I'm a {type(self)}, with vars {vars(self)}\"\n",
    "\n",
    "\n"
   ]
  },
  {
   "cell_type": "code",
   "execution_count": 25,
   "metadata": {
    "collapsed": true
   },
   "outputs": [],
   "source": [
    "def better_repr(c):\n",
    "    c.__repr__ = fancy_repr\n",
    "    def wrapper(*args, **kwargs):\n",
    "        o = c(*args, **kwargs)\n",
    "        return o\n",
    "    return wrapper\n",
    "\n",
    "\n"
   ]
  },
  {
   "cell_type": "code",
   "execution_count": 26,
   "metadata": {
    "collapsed": true
   },
   "outputs": [],
   "source": [
    "# Alternative approach\n",
    "def better_repr(c): #The decorated class\n",
    "    c.__repr__ = fancy_repr\n",
    "    return c #Return a callable — class\n",
    "\n",
    "\n"
   ]
  },
  {
   "cell_type": "code",
   "execution_count": 27,
   "metadata": {
    "collapsed": true
   },
   "outputs": [],
   "source": [
    "@better_repr\n",
    "class Foo():\n",
    "    def __init__(self, x, y):\n",
    "        self.x = x\n",
    "        self.y = y\n",
    "\n",
    "\n"
   ]
  },
  {
   "cell_type": "code",
   "execution_count": 28,
   "metadata": {
    "collapsed": false
   },
   "outputs": [
    {
     "name": "stdout",
     "output_type": "stream",
     "text": [
      "I'm a <class '__main__.Foo'>, with vars {'x': 10, 'y': [10, 20, 30]}\n"
     ]
    }
   ],
   "source": [
    "f = Foo(10, [10, 20, 30])\n",
    "print(f)\n"
   ]
  },
  {
   "cell_type": "markdown",
   "metadata": {},
   "source": [
    "  * The **@object_birthday** decorator, when applied to a class, will add a new **created_at** attribute to new objects\n",
    "  * Give every object its own birthday. This will contain the timestamp at which each instance was created"
   ]
  },
  {
   "cell_type": "code",
   "execution_count": 29,
   "metadata": {
    "collapsed": true
   },
   "outputs": [],
   "source": [
    "def object_birthday(c): #The decorated class\n",
    "    def wrapper(*args, **kwargs):\n",
    "        o = c(*args, **kwargs)\n",
    "        o._created_at = time.time()\n",
    "        return o\n",
    "    return wrapper\n",
    "\n",
    "\n"
   ]
  },
  {
   "cell_type": "code",
   "execution_count": 30,
   "metadata": {
    "collapsed": true
   },
   "outputs": [],
   "source": [
    "@object_birthday\n",
    "class Foo():\n",
    "    def __init__(self, x, y):\n",
    "        self.x = x\n",
    "        self.y = y\n",
    "\n",
    "\n"
   ]
  },
  {
   "cell_type": "code",
   "execution_count": 31,
   "metadata": {
    "collapsed": false
   },
   "outputs": [
    {
     "name": "stdout",
     "output_type": "stream",
     "text": [
      "<__main__.Foo object at 0x00000259414E90B8>\n",
      "1570225832.0968118\n"
     ]
    }
   ],
   "source": [
    "f = Foo(10, [10, 20, 30])\n",
    "print(f)\n",
    "print(f._created_at)\n",
    "\n",
    "\n"
   ]
  },
  {
   "cell_type": "code",
   "execution_count": 32,
   "metadata": {
    "collapsed": true
   },
   "outputs": [],
   "source": [
    "def object_birthday(c):\n",
    "    c.__repr__ = fancy_repr  #Add a method to the class\n",
    "\n",
    "    def wrapper(*args, **kwargs):\n",
    "        o = c(*args, **kwargs)\n",
    "        o._created_at = time.time()  #Add an attribute to the instance\n",
    "        return o\n",
    "    return wrapper\n",
    "\n",
    "\n"
   ]
  },
  {
   "cell_type": "code",
   "execution_count": 33,
   "metadata": {
    "collapsed": true
   },
   "outputs": [],
   "source": [
    "@object_birthday\n",
    "class Foo():\n",
    "    def __init__(self, x, y):\n",
    "        self.x = x\n",
    "        self.y = y\n",
    "\n",
    "\n",
    "\n"
   ]
  },
  {
   "cell_type": "code",
   "execution_count": 34,
   "metadata": {
    "collapsed": false
   },
   "outputs": [
    {
     "name": "stdout",
     "output_type": "stream",
     "text": [
      "I'm a <class '__main__.Foo'>, with vars {'x': 10, 'y': [10, 20, 30], '_created_at': 1570225832.158646}\n"
     ]
    }
   ],
   "source": [
    "f = Foo(10, [10, 20, 30])\n",
    "print(f)\n",
    "\n"
   ]
  },
  {
   "cell_type": "markdown",
   "metadata": {},
   "source": [
    " ### 6. Unwrapping a decorator\n",
    " * gain access to the original function by accessing the `__wrapped__` attribute."
   ]
  },
  {
   "cell_type": "code",
   "execution_count": 35,
   "metadata": {
    "collapsed": false
   },
   "outputs": [
    {
     "data": {
      "text/plain": [
       "7"
      ]
     },
     "execution_count": 35,
     "metadata": {},
     "output_type": "execute_result"
    }
   ],
   "source": [
    "# decorator has been implemented properly using @wraps\n",
    "@timethis\n",
    "def add(x,y):\n",
    "    return x+y\n",
    "\n",
    "original_add = add.__wrapped__\n",
    "original_add(3,4)\n",
    "\n"
   ]
  },
  {
   "cell_type": "markdown",
   "metadata": {},
   "source": [
    " ### 7. Preserving function metadata\n",
    " * apply the @wraps decorator from functool library to the underlying wrapper function."
   ]
  },
  {
   "cell_type": "code",
   "execution_count": 36,
   "metadata": {
    "collapsed": true
   },
   "outputs": [],
   "source": [
    "def timethis(func):\n",
    "    '''\n",
    "    decorator that reports the execution time.\n",
    "    '''\n",
    "    @functools.wraps(func)\n",
    "    def wrapper(*args, **kwargs):\n",
    "        start = time.time()\n",
    "        result = func(*args, **kwargs)\n",
    "        end = time.time()\n",
    "        print(func.__name__, end-start)\n",
    "        return result\n",
    "    return wrapper\n"
   ]
  },
  {
   "cell_type": "code",
   "execution_count": 37,
   "metadata": {
    "collapsed": true
   },
   "outputs": [],
   "source": [
    "@timethis\n",
    "def countdown(n:int):\n",
    "    '''\n",
    "    counts down\n",
    "    '''\n",
    "    while n>0:\n",
    "        n-=1\n"
   ]
  },
  {
   "cell_type": "code",
   "execution_count": 38,
   "metadata": {
    "collapsed": false
   },
   "outputs": [
    {
     "name": "stdout",
     "output_type": "stream",
     "text": [
      "countdown 0.006983280181884766\n"
     ]
    }
   ],
   "source": [
    "countdown(100000)"
   ]
  },
  {
   "cell_type": "code",
   "execution_count": 39,
   "metadata": {
    "collapsed": false
   },
   "outputs": [
    {
     "data": {
      "text/plain": [
       "'countdown'"
      ]
     },
     "execution_count": 39,
     "metadata": {},
     "output_type": "execute_result"
    }
   ],
   "source": [
    "countdown.__name__"
   ]
  },
  {
   "cell_type": "code",
   "execution_count": 40,
   "metadata": {
    "collapsed": false
   },
   "outputs": [
    {
     "data": {
      "text/plain": [
       "'\\n    counts down\\n    '"
      ]
     },
     "execution_count": 40,
     "metadata": {},
     "output_type": "execute_result"
    }
   ],
   "source": [
    "countdown.__doc__\n"
   ]
  },
  {
   "cell_type": "code",
   "execution_count": 41,
   "metadata": {
    "collapsed": false
   },
   "outputs": [
    {
     "data": {
      "text/plain": [
       "{'n': int}"
      ]
     },
     "execution_count": 41,
     "metadata": {},
     "output_type": "execute_result"
    }
   ],
   "source": [
    "countdown.__annotations__\n"
   ]
  },
  {
   "cell_type": "markdown",
   "metadata": {},
   "source": [
    " ### 8. decorator that takes arguments"
   ]
  },
  {
   "cell_type": "code",
   "execution_count": 42,
   "metadata": {
    "collapsed": true
   },
   "outputs": [],
   "source": [
    "import logging\n",
    "\n",
    "def logged(level, name = None, message = None):\n",
    "    '''\n",
    "    add logging to a function.\n",
    "    level is the logging level, name is the logger name, and message is the log message. If name and message aren't specified, they default to the function's module and name\n",
    "    '''\n",
    "    def decorate(func):\n",
    "        logname = name if name else func.__name__\n",
    "        log = logging.getLogger(logname)\n",
    "        logmsg = message if message else func.__name__\n",
    "\n",
    "        @functools.wraps(func)\n",
    "        def wrapper(*args, **kwargs):\n",
    "            log.log(level, logmsg)\n",
    "            return func(*args, **kwargs)\n",
    "        return wrapper\n",
    "    return decorate"
   ]
  },
  {
   "cell_type": "code",
   "execution_count": 43,
   "metadata": {
    "collapsed": true
   },
   "outputs": [],
   "source": [
    "# example usage\n",
    "@logged(logging.DEBUG)\n",
    "def add(x, y):\n",
    "    return x+y\n"
   ]
  },
  {
   "cell_type": "code",
   "execution_count": 44,
   "metadata": {
    "collapsed": true
   },
   "outputs": [],
   "source": [
    "@logged(logging.CRITICAL)\n",
    "def spam():\n",
    "    print('Spam')\n"
   ]
  },
  {
   "cell_type": "markdown",
   "metadata": {},
   "source": [
    " ### 8. Type checking on function\n",
    " * use inspect.signature() function"
   ]
  },
  {
   "cell_type": "code",
   "execution_count": 45,
   "metadata": {
    "collapsed": true
   },
   "outputs": [],
   "source": [
    "import inspect\n"
   ]
  },
  {
   "cell_type": "code",
   "execution_count": 46,
   "metadata": {
    "collapsed": true
   },
   "outputs": [],
   "source": [
    "def typeassert(*ty_args, **ty_kwargs):\n",
    "    def decorate(func):\n",
    "        # if in optimized mode, disable type checking\n",
    "        if not __debug__:\n",
    "            return func\n",
    "        \n",
    "        # map function argument names to supplied types\n",
    "        sig = inspect.signature(func)\n",
    "        bound_types = sig.bind_partial(*ty_args, **ty_kwargs).arguments\n",
    "\n",
    "        @functools.wraps(func)\n",
    "        def wrapper(*args, **kwargs):\n",
    "            bound_values = sig.bind(*args, **kwargs)\n",
    "            # enforce type assertions across supplied arguments\n",
    "            for name, value in bound_values.arguments.items():\n",
    "                if name in bound_types:\n",
    "                    if not isinstance(value, bound_types[name]):\n",
    "                        raise TypeError(\n",
    "                    'Argument {} must be {}'.format(name, bound_types[name]))\n",
    "            \n",
    "            return func(*args, **kwargs)\n",
    "        return wrapper\n",
    "    return decorate\n",
    "\n",
    "\n"
   ]
  },
  {
   "cell_type": "code",
   "execution_count": 47,
   "metadata": {
    "collapsed": true
   },
   "outputs": [],
   "source": [
    "@typeassert(int, z=int)\n",
    "def spam(x, y, z=42):\n",
    "    print(x,y,z)\n",
    "\n"
   ]
  },
  {
   "cell_type": "code",
   "execution_count": 48,
   "metadata": {
    "collapsed": false
   },
   "outputs": [
    {
     "name": "stdout",
     "output_type": "stream",
     "text": [
      "1 2 3\n"
     ]
    }
   ],
   "source": [
    "spam(1,2,3)\n"
   ]
  },
  {
   "cell_type": "code",
   "execution_count": 49,
   "metadata": {
    "collapsed": false
   },
   "outputs": [
    {
     "name": "stdout",
     "output_type": "stream",
     "text": [
      "1 hello 3\n"
     ]
    }
   ],
   "source": [
    "spam(1, 'hello', 3)\n"
   ]
  },
  {
   "cell_type": "code",
   "execution_count": 50,
   "metadata": {
    "collapsed": true
   },
   "outputs": [],
   "source": [
    "# spam(1,'hello','world')\n",
    "# ---------------------------------------------------------------------------\n",
    "# TypeError                                 Traceback (most recent call last)\n",
    "#  in ()\n",
    "# ----> 1 spam(1,'hello','world')\n",
    "\n",
    "#  in wrapper(*args, **kwargs)\n",
    "#      17                     if not isinstance(value, bound_types[name]):\n",
    "#      18                         raise TypeError(\n",
    "# ---> 19                     'Argument {} must be {}'.format(name, bound_types[name]))\n",
    "#      20 \n",
    "#      21             return func(*args, **kwargs)\n",
    "\n",
    "# TypeError: Argument z must be "
   ]
  },
  {
   "cell_type": "code",
   "execution_count": 51,
   "metadata": {
    "collapsed": true
   },
   "outputs": [],
   "source": [
    "def spam(x,y,z=42):\n",
    "    pass"
   ]
  },
  {
   "cell_type": "code",
   "execution_count": 52,
   "metadata": {
    "collapsed": false
   },
   "outputs": [
    {
     "name": "stdout",
     "output_type": "stream",
     "text": [
      "(x, y, z=42)\n"
     ]
    }
   ],
   "source": [
    "sig = inspect.signature(spam)\n",
    "print(sig)"
   ]
  },
  {
   "cell_type": "code",
   "execution_count": 53,
   "metadata": {
    "collapsed": false
   },
   "outputs": [
    {
     "data": {
      "text/plain": [
       "mappingproxy({'x': <Parameter \"x\">,\n",
       "              'y': <Parameter \"y\">,\n",
       "              'z': <Parameter \"z=42\">})"
      ]
     },
     "execution_count": 53,
     "metadata": {},
     "output_type": "execute_result"
    }
   ],
   "source": [
    "sig.parameters\n"
   ]
  },
  {
   "cell_type": "code",
   "execution_count": 54,
   "metadata": {
    "collapsed": false
   },
   "outputs": [
    {
     "data": {
      "text/plain": [
       "42"
      ]
     },
     "execution_count": 54,
     "metadata": {},
     "output_type": "execute_result"
    }
   ],
   "source": [
    "sig.parameters['z']._default\n"
   ]
  },
  {
   "cell_type": "code",
   "execution_count": 55,
   "metadata": {
    "collapsed": false
   },
   "outputs": [
    {
     "data": {
      "text/plain": [
       "<_ParameterKind.POSITIONAL_OR_KEYWORD: 1>"
      ]
     },
     "execution_count": 55,
     "metadata": {},
     "output_type": "execute_result"
    }
   ],
   "source": [
    "sig.parameters['z'].kind\n",
    "\n"
   ]
  },
  {
   "cell_type": "code",
   "execution_count": 56,
   "metadata": {
    "collapsed": false
   },
   "outputs": [
    {
     "data": {
      "text/plain": [
       "<BoundArguments (x=<class 'int'>, z=<class 'int'>)>"
      ]
     },
     "execution_count": 56,
     "metadata": {},
     "output_type": "execute_result"
    }
   ],
   "source": [
    "bound_types = sig.bind_partial(int, z = int)\n",
    "bound_types\n"
   ]
  },
  {
   "cell_type": "code",
   "execution_count": 57,
   "metadata": {
    "collapsed": false
   },
   "outputs": [
    {
     "data": {
      "text/plain": [
       "OrderedDict([('x', int), ('z', int)])"
      ]
     },
     "execution_count": 57,
     "metadata": {},
     "output_type": "execute_result"
    }
   ],
   "source": [
    "bound_types.arguments\n"
   ]
  },
  {
   "cell_type": "code",
   "execution_count": 58,
   "metadata": {
    "collapsed": false
   },
   "outputs": [
    {
     "data": {
      "text/plain": [
       "OrderedDict([('x', 1), ('y', 2), ('z', 3)])"
      ]
     },
     "execution_count": 58,
     "metadata": {},
     "output_type": "execute_result"
    }
   ],
   "source": [
    "bound_values = sig.bind(1,2,3)\n",
    "bound_values.arguments"
   ]
  },
  {
   "cell_type": "markdown",
   "metadata": {},
   "source": [
    " ### 9. Decorator as part of a class\n",
    " * define decorator inside a class definition and apply it to other functions or methods"
   ]
  },
  {
   "cell_type": "code",
   "execution_count": 59,
   "metadata": {
    "collapsed": true
   },
   "outputs": [],
   "source": [
    "class A:\n",
    "    #decorator as an instance method\n",
    "    def decorator1(self, func):\n",
    "        @functools.wraps(func)\n",
    "        def wrapper(*args, **kwargs):\n",
    "            print('Decorator 1')\n",
    "            return func(*args, **kwargs)\n",
    "        return wrapper\n",
    "\n",
    "    # decorator as a class method\n",
    "    @classmethod\n",
    "    def decorator2(cls, func):\n",
    "        @functools.wraps(func)\n",
    "        def wrapper(*args, **kwargs):\n",
    "            print('Decorator 2')\n",
    "            return func(*args, **kwargs)\n",
    "        return wrapper\n",
    "\n"
   ]
  },
  {
   "cell_type": "code",
   "execution_count": 60,
   "metadata": {
    "collapsed": true
   },
   "outputs": [],
   "source": [
    "# example of how the two decorators would be applied\n",
    "# as an instance method\n",
    "a = A()\n",
    "@a.decorator1\n",
    "def spam():\n",
    "    pass\n",
    "\n",
    "# as a class method\n",
    "@A.decorator2\n",
    "def grok():\n",
    "    pass\n"
   ]
  },
  {
   "cell_type": "code",
   "execution_count": 61,
   "metadata": {
    "collapsed": true
   },
   "outputs": [],
   "source": [
    "# build-in @property decorator is a class with getter(), setter() and deleter() methods that each act as a decorator\n",
    "\n",
    "class Person:\n",
    "    #create a propety instance\n",
    "    first_name = property()\n",
    "\n",
    "    #apply decorator methods\n",
    "    @first_name.getter\n",
    "    def first_name(self):\n",
    "        return self._first_name\n",
    "\n",
    "    @first_name.setter\n",
    "    def first_name(self, value):\n",
    "        if not isinstance(self, value):\n",
    "            raise TypeError('Expected a string')\n",
    "        self._first_name = value\n",
    "\n",
    "    \n"
   ]
  },
  {
   "cell_type": "markdown",
   "metadata": {},
   "source": [
    " ### 10. Decorator as classes\n",
    " * Decorator works both inside and boutside class definitions, it implements the `__call__()` and `__get__()` methods."
   ]
  },
  {
   "cell_type": "code",
   "execution_count": 62,
   "metadata": {
    "collapsed": true
   },
   "outputs": [],
   "source": [
    "import types\n"
   ]
  },
  {
   "cell_type": "code",
   "execution_count": 63,
   "metadata": {
    "collapsed": true
   },
   "outputs": [],
   "source": [
    "class Profiled:\n",
    "    '''\n",
    "    defines a class that puts a simple profiling layer around another function\n",
    "    '''\n",
    "\n",
    "    def __init__(self, func):\n",
    "        functools.wraps(func)(self)\n",
    "        self.ncalls = 0\n",
    "\n",
    "    def __call__(self, *args, **kwargs):\n",
    "        self.ncalls +=1\n",
    "        return self.__wrapped__(*args, **kwargs)\n",
    "\n",
    "    def __get__(self, instance, cls):\n",
    "        if instance is None:\n",
    "            return self\n",
    "        else:\n",
    "            return types.MethodType(self, instance)\n"
   ]
  },
  {
   "cell_type": "code",
   "execution_count": 64,
   "metadata": {
    "collapsed": true
   },
   "outputs": [],
   "source": [
    "#use as a normal decorator , either inside or outside of a class\n",
    "@Profiled\n",
    "def add(x,y):\n",
    "    return x+y\n",
    "\n",
    "class Spam:\n",
    "    @Profiled\n",
    "    def bar(self, x):\n",
    "        print(self, x)\n"
   ]
  },
  {
   "cell_type": "code",
   "execution_count": 65,
   "metadata": {
    "collapsed": false
   },
   "outputs": [
    {
     "data": {
      "text/plain": [
       "5"
      ]
     },
     "execution_count": 65,
     "metadata": {},
     "output_type": "execute_result"
    }
   ],
   "source": [
    "add(2,3)\n"
   ]
  },
  {
   "cell_type": "code",
   "execution_count": 66,
   "metadata": {
    "collapsed": false
   },
   "outputs": [
    {
     "data": {
      "text/plain": [
       "9"
      ]
     },
     "execution_count": 66,
     "metadata": {},
     "output_type": "execute_result"
    }
   ],
   "source": [
    "add(4,5)\n"
   ]
  },
  {
   "cell_type": "code",
   "execution_count": 67,
   "metadata": {
    "collapsed": false
   },
   "outputs": [
    {
     "data": {
      "text/plain": [
       "2"
      ]
     },
     "execution_count": 67,
     "metadata": {},
     "output_type": "execute_result"
    }
   ],
   "source": [
    "add.ncalls\n"
   ]
  },
  {
   "cell_type": "code",
   "execution_count": 68,
   "metadata": {
    "collapsed": true
   },
   "outputs": [],
   "source": [
    "s = Spam()\n"
   ]
  },
  {
   "cell_type": "code",
   "execution_count": 69,
   "metadata": {
    "collapsed": false
   },
   "outputs": [
    {
     "name": "stdout",
     "output_type": "stream",
     "text": [
      "<__main__.Spam object at 0x00000259414F87B8> 1\n"
     ]
    }
   ],
   "source": [
    "s.bar(1)\n"
   ]
  },
  {
   "cell_type": "code",
   "execution_count": 70,
   "metadata": {
    "collapsed": false
   },
   "outputs": [
    {
     "name": "stdout",
     "output_type": "stream",
     "text": [
      "<__main__.Spam object at 0x00000259414F87B8> 2\n"
     ]
    }
   ],
   "source": [
    "s.bar(2)\n"
   ]
  },
  {
   "cell_type": "code",
   "execution_count": 71,
   "metadata": {
    "collapsed": false
   },
   "outputs": [
    {
     "name": "stdout",
     "output_type": "stream",
     "text": [
      "<__main__.Spam object at 0x00000259414F87B8> 3\n"
     ]
    }
   ],
   "source": [
    "s.bar(3)\n"
   ]
  },
  {
   "cell_type": "code",
   "execution_count": 72,
   "metadata": {
    "collapsed": false
   },
   "outputs": [
    {
     "data": {
      "text/plain": [
       "3"
      ]
     },
     "execution_count": 72,
     "metadata": {},
     "output_type": "execute_result"
    }
   ],
   "source": [
    "Spam.bar.ncalls\n"
   ]
  },
  {
   "cell_type": "code",
   "execution_count": 73,
   "metadata": {
    "collapsed": true
   },
   "outputs": [],
   "source": [
    "# alternative formulation of the decorator using closures and nonlocal variables\n",
    "\n",
    "def profiled(func):\n",
    "    ncalls = 0\n",
    "    @functools.wraps(func)\n",
    "    def wrapper(*args, **kwargs):\n",
    "        nonlocal ncalls\n",
    "        ncalls += 1\n",
    "        return func(*args, **kwargs)\n",
    "    wrapper.ncalls = lambda: ncalls\n",
    "    return wrapper\n",
    "\n"
   ]
  },
  {
   "cell_type": "code",
   "execution_count": 74,
   "metadata": {
    "collapsed": true
   },
   "outputs": [],
   "source": [
    "# example \n",
    "@profiled\n",
    "def add(x,y):\n",
    "    return x+y\n"
   ]
  },
  {
   "cell_type": "code",
   "execution_count": 75,
   "metadata": {
    "collapsed": false
   },
   "outputs": [
    {
     "data": {
      "text/plain": [
       "5"
      ]
     },
     "execution_count": 75,
     "metadata": {},
     "output_type": "execute_result"
    }
   ],
   "source": [
    "add(2,3)\n"
   ]
  },
  {
   "cell_type": "code",
   "execution_count": 76,
   "metadata": {
    "collapsed": false
   },
   "outputs": [
    {
     "data": {
      "text/plain": [
       "9"
      ]
     },
     "execution_count": 76,
     "metadata": {},
     "output_type": "execute_result"
    }
   ],
   "source": [
    "add(4,5)\n"
   ]
  },
  {
   "cell_type": "code",
   "execution_count": 77,
   "metadata": {
    "collapsed": false
   },
   "outputs": [
    {
     "data": {
      "text/plain": [
       "2"
      ]
     },
     "execution_count": 77,
     "metadata": {},
     "output_type": "execute_result"
    }
   ],
   "source": [
    "add.ncalls()\n"
   ]
  },
  {
   "cell_type": "markdown",
   "metadata": {},
   "source": [
    " ### 11. Applying decorator to class and static methods\n",
    " * Make sure that the decorators are applied before `@classmethod` or `@staticmethod`."
   ]
  },
  {
   "cell_type": "code",
   "execution_count": 78,
   "metadata": {
    "collapsed": true
   },
   "outputs": [],
   "source": [
    "# a simple decorator\n",
    "def timethis(func):\n",
    "    @functools.wraps(func)\n",
    "    def wrapper(*args, **kwargs):\n",
    "        start = time.time()\n",
    "        result = func(*args, **kwargs)\n",
    "        end = time.time()\n",
    "        print(end - start)\n",
    "        return result\n",
    "    return wrapper\n",
    "\n"
   ]
  },
  {
   "cell_type": "code",
   "execution_count": 79,
   "metadata": {
    "collapsed": true
   },
   "outputs": [],
   "source": [
    "# class sllustrating application of the decorator to different kinds of methods \n",
    "\n",
    "class Spam:\n",
    "    @timethis\n",
    "    def instance_method(self, n):\n",
    "        print(self, n)\n",
    "        while n>0:\n",
    "            n-=1\n",
    "\n",
    "    @classmethod\n",
    "    @timethis\n",
    "    def class_method(cls, n):\n",
    "        print(cls,n)\n",
    "        while n>0:\n",
    "            n-=1\n",
    "\n",
    "    @staticmethod\n",
    "    @timethis\n",
    "    def static_method(n):\n",
    "        print(n)\n",
    "        while n>0:\n",
    "            n-=1\n"
   ]
  },
  {
   "cell_type": "code",
   "execution_count": 80,
   "metadata": {
    "collapsed": false
   },
   "outputs": [
    {
     "name": "stdout",
     "output_type": "stream",
     "text": [
      "<__main__.Spam object at 0x00000259414F82B0> 1000000\n",
      "0.07080483436584473\n"
     ]
    }
   ],
   "source": [
    "s = Spam()\n",
    "s.instance_method(1000000)\n"
   ]
  },
  {
   "cell_type": "code",
   "execution_count": 81,
   "metadata": {
    "collapsed": false
   },
   "outputs": [
    {
     "name": "stdout",
     "output_type": "stream",
     "text": [
      "<class '__main__.Spam'> 1000000\n",
      "0.08377575874328613\n"
     ]
    }
   ],
   "source": [
    "Spam.class_method(1000000)"
   ]
  },
  {
   "cell_type": "code",
   "execution_count": 82,
   "metadata": {
    "collapsed": false
   },
   "outputs": [
    {
     "name": "stdout",
     "output_type": "stream",
     "text": [
      "1000000\n",
      "0.07380080223083496\n"
     ]
    }
   ],
   "source": [
    "Spam.static_method(1000000)\n"
   ]
  },
  {
   "cell_type": "markdown",
   "metadata": {},
   "source": [
    " ### 12. Decorators that add arguments to wrapped functions\n",
    " * extra arguments can be injected into the calling signature using keyword-only arguments."
   ]
  },
  {
   "cell_type": "code",
   "execution_count": 83,
   "metadata": {
    "collapsed": true
   },
   "outputs": [],
   "source": [
    "def optional_debug(func):\n",
    "    @functools.wraps(func)\n",
    "    def wrapper(*args, debug = False, **kwargs):\n",
    "        if debug:\n",
    "            print('calling', func.__name__)\n",
    "        return func(*args, **kwargs)\n",
    "    return wrapper"
   ]
  },
  {
   "cell_type": "code",
   "execution_count": 84,
   "metadata": {
    "collapsed": true
   },
   "outputs": [],
   "source": [
    "@optional_debug\n",
    "def spam(a,b,c):\n",
    "    print(a,b,c)\n"
   ]
  },
  {
   "cell_type": "code",
   "execution_count": 85,
   "metadata": {
    "collapsed": false
   },
   "outputs": [
    {
     "name": "stdout",
     "output_type": "stream",
     "text": [
      "1 2 3\n"
     ]
    }
   ],
   "source": [
    "spam(1,2,3)\n"
   ]
  },
  {
   "cell_type": "code",
   "execution_count": 86,
   "metadata": {
    "collapsed": false
   },
   "outputs": [
    {
     "name": "stdout",
     "output_type": "stream",
     "text": [
      "calling spam\n",
      "1 2 3\n"
     ]
    }
   ],
   "source": [
    "spam(1,2,3, debug = True)\n"
   ]
  },
  {
   "cell_type": "code",
   "execution_count": 87,
   "metadata": {
    "collapsed": true
   },
   "outputs": [],
   "source": [
    "# if the @optional_debug decorator was applied to a functin that already had a debug argument.\n",
    "def optional_debug(func):\n",
    "    if 'debug' in inspect.getargspec(func).args:\n",
    "        raise TypeError('debug argument already defined')\n",
    "    @functools.wraps(func)\n",
    "    def wrapper(*args, debug=False, **kwargs):\n",
    "        if debug:\n",
    "            print('calling', func.__name__)\n",
    "        return func(*args, **kwargs)\n",
    "\n",
    "    sig = inspect.signature(func)\n",
    "    parameters = list(sig.parameters.values())\n",
    "    parameters.append(inspect.Parameter('debug', \n",
    "                                        inspect.Parameter.KEYWORD_ONLY,default=False))\n",
    "    wrapper.__signature__ = sig.replace(parameters=parameters)\n",
    "    return wrapper\n"
   ]
  },
  {
   "cell_type": "code",
   "execution_count": 88,
   "metadata": {
    "collapsed": false
   },
   "outputs": [
    {
     "name": "stderr",
     "output_type": "stream",
     "text": [
      "C:\\Users\\Nan\\AppData\\Local\\conda\\conda\\envs\\ipykernel_py3\\lib\\site-packages\\ipykernel_launcher.py:3: DeprecationWarning: inspect.getargspec() is deprecated since Python 3.0, use inspect.signature() or inspect.getfullargspec()\n",
      "  This is separate from the ipykernel package so we can avoid doing imports until\n"
     ]
    }
   ],
   "source": [
    "@optional_debug\n",
    "def add(x,y):\n",
    "    return x+y\n"
   ]
  },
  {
   "cell_type": "code",
   "execution_count": 89,
   "metadata": {
    "collapsed": false
   },
   "outputs": [
    {
     "name": "stdout",
     "output_type": "stream",
     "text": [
      "(x, y, *, debug=False)\n"
     ]
    }
   ],
   "source": [
    "print(inspect.signature(add))\n"
   ]
  },
  {
   "cell_type": "markdown",
   "metadata": {},
   "source": [
    " ### 13. Enforcing an argument signature\n",
    " * Use the `Signature` and `Parameter` classes from `inspect` module"
   ]
  },
  {
   "cell_type": "code",
   "execution_count": 90,
   "metadata": {
    "collapsed": false
   },
   "outputs": [
    {
     "data": {
      "text/plain": [
       "<Signature (x, y=42, *, z=None)>"
      ]
     },
     "execution_count": 90,
     "metadata": {},
     "output_type": "execute_result"
    }
   ],
   "source": [
    "# example of creating a function signature\n",
    "# make a signature for a func(x, y=42,*,z=None)\n",
    "parms = [inspect.Parameter('x', inspect.Parameter.POSITIONAL_OR_KEYWORD),\n",
    "        inspect.Parameter('y', inspect.Parameter.POSITIONAL_OR_KEYWORD, default=42),\n",
    "        inspect.Parameter('z', inspect.Parameter.KEYWORD_ONLY, default= None)]\n",
    "sig = inspect.Signature(parms)\n",
    "sig"
   ]
  },
  {
   "cell_type": "code",
   "execution_count": 91,
   "metadata": {
    "collapsed": true
   },
   "outputs": [],
   "source": [
    "# once a signature object is created, it can be easily bound to *args and **kwargs using the signature's bind() method.\n",
    "\n",
    "def func(*args, **kwargs):\n",
    "    bound_values = sig.bind(*args, **kwargs)\n",
    "    for name, value in bound_values.arguments.items():\n",
    "        print(name, value)\n"
   ]
  },
  {
   "cell_type": "code",
   "execution_count": 92,
   "metadata": {
    "collapsed": false
   },
   "outputs": [
    {
     "name": "stdout",
     "output_type": "stream",
     "text": [
      "x 1\n",
      "y 2\n",
      "z 3\n"
     ]
    }
   ],
   "source": [
    "func(1,2,z=3)\n"
   ]
  },
  {
   "cell_type": "code",
   "execution_count": 93,
   "metadata": {
    "collapsed": false
   },
   "outputs": [
    {
     "name": "stdout",
     "output_type": "stream",
     "text": [
      "x 1\n"
     ]
    }
   ],
   "source": [
    "func(1)\n"
   ]
  },
  {
   "cell_type": "code",
   "execution_count": 94,
   "metadata": {
    "collapsed": false
   },
   "outputs": [
    {
     "name": "stdout",
     "output_type": "stream",
     "text": [
      "x 1\n",
      "z 3\n"
     ]
    }
   ],
   "source": [
    "func(1, z=3)\n"
   ]
  },
  {
   "cell_type": "code",
   "execution_count": 95,
   "metadata": {
    "collapsed": false
   },
   "outputs": [
    {
     "name": "stdout",
     "output_type": "stream",
     "text": [
      "x 1\n",
      "y 2\n"
     ]
    }
   ],
   "source": [
    "func(y=2,x =1)\n"
   ]
  },
  {
   "cell_type": "code",
   "execution_count": 96,
   "metadata": {
    "collapsed": true
   },
   "outputs": [],
   "source": [
    "# func(1,2,3,4)\n",
    "# ----> 1 func(1,2,3,4)\n",
    "\n",
    "#  in func(*args, **kwargs)\n",
    "#       2 \n",
    "#       3 def func(*args, **kwargs):\n",
    "# ----> 4     bound_values = sig.bind(*args, **kwargs)\n",
    "#       5     for name, value in bound_values.arguments.items():\n",
    "#       6         print(name, value)\n",
    "\n",
    "# ~\\AppData\\Local\\conda\\conda\\envs\\ipykernel_py3\\lib\\inspect.py in bind(*args, **kwargs)\n",
    "#    2995         if the passed arguments can not be bound.\n",
    "#    2996         \"\"\"\n",
    "# -> 2997         return args[0]._bind(args[1:], kwargs)\n",
    "#    2998 \n",
    "#    2999     def bind_partial(*args, **kwargs):\n",
    "\n",
    "# ~\\AppData\\Local\\conda\\conda\\envs\\ipykernel_py3\\lib\\inspect.py in _bind(self, args, kwargs, partial)\n",
    "#    2922                         # argument\n",
    "#    2923                         raise TypeError(\n",
    "# -> 2924                             'too many positional arguments') from None\n",
    "#    2925 \n",
    "#    2926                     if param.kind == _VAR_POSITIONAL:\n",
    "\n",
    "# TypeError: too many positional arguments"
   ]
  },
  {
   "cell_type": "code",
   "execution_count": 97,
   "metadata": {
    "collapsed": true
   },
   "outputs": [],
   "source": [
    "# func(y=2)\n",
    "# ---------------------------------------------------------------------------\n",
    "# TypeError                                 Traceback (most recent call last)\n",
    "#  in \n",
    "# ----> 1 func(y=2)\n",
    "\n",
    "#  in func(*args, **kwargs)\n",
    "#       2 \n",
    "#       3 def func(*args, **kwargs):\n",
    "# ----> 4     bound_values = sig.bind(*args, **kwargs)\n",
    "#       5     for name, value in bound_values.arguments.items():\n",
    "#       6         print(name, value)\n",
    "\n",
    "# ~\\AppData\\Local\\conda\\conda\\envs\\ipykernel_py3\\lib\\inspect.py in bind(*args, **kwargs)\n",
    "#    2995         if the passed arguments can not be bound.\n",
    "#    2996         \"\"\"\n",
    "# -> 2997         return args[0]._bind(args[1:], kwargs)\n",
    "#    2998 \n",
    "#    2999     def bind_partial(*args, **kwargs):\n",
    "\n",
    "# ~\\AppData\\Local\\conda\\conda\\envs\\ipykernel_py3\\lib\\inspect.py in _bind(self, args, kwargs, partial)\n",
    "#    2910                             msg = 'missing a required argument: {arg!r}'\n",
    "#    2911                             msg = msg.format(arg=param.name)\n",
    "# -> 2912                             raise TypeError(msg) from None\n",
    "#    2913             else:\n",
    "#    2914                 # We have a positional argument to process\n",
    "\n",
    "# TypeError: missing a required argument: 'x'"
   ]
  },
  {
   "cell_type": "code",
   "execution_count": 98,
   "metadata": {
    "collapsed": true
   },
   "outputs": [],
   "source": [
    "# argument duplication\n",
    "# func(1, y=2, x=3)\n",
    "# ---------------------------------------------------------------------------\n",
    "# TypeError                                 Traceback (most recent call last)\n",
    "#  in \n",
    "# ----> 1 func(1, y=2, x=3)\n",
    "\n",
    "#  in func(*args, **kwargs)\n",
    "#       2 \n",
    "#       3 def func(*args, **kwargs):\n",
    "# ----> 4     bound_values = sig.bind(*args, **kwargs)\n",
    "#       5     for name, value in bound_values.arguments.items():\n",
    "#       6         print(name, value)\n",
    "\n",
    "# ~\\AppData\\Local\\conda\\conda\\envs\\ipykernel_py3\\lib\\inspect.py in bind(*args, **kwargs)\n",
    "#    2995         if the passed arguments can not be bound.\n",
    "#    2996         \"\"\"\n",
    "# -> 2997         return args[0]._bind(args[1:], kwargs)\n",
    "#    2998 \n",
    "#    2999     def bind_partial(*args, **kwargs):\n",
    "\n",
    "# ~\\AppData\\Local\\conda\\conda\\envs\\ipykernel_py3\\lib\\inspect.py in _bind(self, args, kwargs, partial)\n",
    "#    2936                         raise TypeError(\n",
    "#    2937                             'multiple values for argument {arg!r}'.format(\n",
    "# -> 2938                                 arg=param.name)) from None\n",
    "#    2939 \n",
    "#    2940                     arguments[param.name] = arg_val\n",
    "\n",
    "# TypeError: multiple values for argument 'x'"
   ]
  },
  {
   "cell_type": "code",
   "execution_count": 99,
   "metadata": {
    "collapsed": true
   },
   "outputs": [],
   "source": [
    "# example of enforcing function signatures\n",
    "# base class is defined an extremely general purpose version of __init__\n",
    "# subclasses are expected to supply an expected signature\n",
    "def make_sig(*names):\n",
    "    parms = [inspect.Parameter(name, inspect.Parameter.POSITIONAL_OR_KEYWORD)           for name in names]\n",
    "    return inspect.Signature(parms)\n",
    "\n",
    "class Structure:\n",
    "    __signature__ = make_sig()\n",
    "    def __init__(self, *args, **kwargs):\n",
    "        bound_values = self.__signature__.bind(*args, **kwargs)\n",
    "        for name, value in bound_values.arguments.items():\n",
    "            setattr(self, name, value)\n",
    "\n"
   ]
  },
  {
   "cell_type": "code",
   "execution_count": 100,
   "metadata": {
    "collapsed": true
   },
   "outputs": [],
   "source": [
    "# example useage\n",
    "class Stock(Structure):\n",
    "    __signature__ = make_sig('name', 'shares', 'price')\n",
    "\n",
    "class Point(Structure):\n",
    "    __signature__ = make_sig('x','y')\n"
   ]
  },
  {
   "cell_type": "code",
   "execution_count": 101,
   "metadata": {
    "collapsed": false
   },
   "outputs": [
    {
     "data": {
      "text/plain": [
       "<Signature (name, shares, price)>"
      ]
     },
     "execution_count": 101,
     "metadata": {},
     "output_type": "execute_result"
    }
   ],
   "source": [
    "inspect.signature(Stock)\n"
   ]
  },
  {
   "cell_type": "code",
   "execution_count": 102,
   "metadata": {
    "collapsed": true
   },
   "outputs": [],
   "source": [
    "s1 = Stock('SBUX', 100, 85.92)\n",
    "\n"
   ]
  },
  {
   "cell_type": "code",
   "execution_count": 103,
   "metadata": {
    "collapsed": true
   },
   "outputs": [],
   "source": [
    "# s2 = Stock('SBUX', 100)\n",
    "\n",
    "\n",
    "# s2 = Stock('SBUX', 100)\n",
    "# ---------------------------------------------------------------------------\n",
    "# TypeError                                 Traceback (most recent call last)\n",
    "#  in \n",
    "# ----> 1 s2 = Stock('SBUX', 100)\n",
    "\n",
    "#  in __init__(self, *args, **kwargs)\n",
    "#       9     __signature__ = make_sig()\n",
    "#      10     def __init__(self, *args, **kwargs):\n",
    "# ---> 11         bound_values = self.__signature__.bind(*args, **kwargs)\n",
    "#      12         for name, value in bound_values.arguments.items():\n",
    "#      13             setattr(self, name, value)\n",
    "\n",
    "# ~\\AppData\\Local\\conda\\conda\\envs\\ipykernel_py3\\lib\\inspect.py in bind(*args, **kwargs)\n",
    "#    2995         if the passed arguments can not be bound.\n",
    "#    2996         \"\"\"\n",
    "# -> 2997         return args[0]._bind(args[1:], kwargs)\n",
    "#    2998 \n",
    "#    2999     def bind_partial(*args, **kwargs):\n",
    "\n",
    "# ~\\AppData\\Local\\conda\\conda\\envs\\ipykernel_py3\\lib\\inspect.py in _bind(self, args, kwargs, partial)\n",
    "#    2910                             msg = 'missing a required argument: {arg!r}'\n",
    "#    2911                             msg = msg.format(arg=param.name)\n",
    "# -> 2912                             raise TypeError(msg) from None\n",
    "#    2913             else:\n",
    "#    2914                 # We have a positional argument to process\n",
    "\n",
    "# TypeError: missing a required argument: 'price'"
   ]
  },
  {
   "cell_type": "code",
   "execution_count": 104,
   "metadata": {
    "collapsed": true
   },
   "outputs": [],
   "source": [
    "# s3 = Stock('SBUX', 100, 85.92, shares = 50)\n",
    "# ---------------------------------------------------------------------------\n",
    "# TypeError                                 Traceback (most recent call last)\n",
    "#  in \n",
    "# ----> 1 s3 = Stock('SBUX', 100, 85.92, shares = 50)\n",
    "\n",
    "#  in __init__(self, *args, **kwargs)\n",
    "#       9     __signature__ = make_sig()\n",
    "#      10     def __init__(self, *args, **kwargs):\n",
    "# ---> 11         bound_values = self.__signature__.bind(*args, **kwargs)\n",
    "#      12         for name, value in bound_values.arguments.items():\n",
    "#      13             setattr(self, name, value)\n",
    "\n",
    "# ~\\AppData\\Local\\conda\\conda\\envs\\ipykernel_py3\\lib\\inspect.py in bind(*args, **kwargs)\n",
    "#    2995         if the passed arguments can not be bound.\n",
    "#    2996         \"\"\"\n",
    "# -> 2997         return args[0]._bind(args[1:], kwargs)\n",
    "#    2998 \n",
    "#    2999     def bind_partial(*args, **kwargs):\n",
    "\n",
    "# ~\\AppData\\Local\\conda\\conda\\envs\\ipykernel_py3\\lib\\inspect.py in _bind(self, args, kwargs, partial)\n",
    "#    2936                         raise TypeError(\n",
    "#    2937                             'multiple values for argument {arg!r}'.format(\n",
    "# -> 2938                                 arg=param.name)) from None\n",
    "#    2939 \n",
    "#    2940                     arguments[param.name] = arg_val\n",
    "\n",
    "# TypeError: multiple values for argument 'shares'"
   ]
  }
 ],
 "metadata": {
  "file_extension": ".py",
  "kernelspec": {
   "display_name": "Python 2",
   "language": "python",
   "name": "python2"
  },
  "language_info": {
   "codemirror_mode": {
    "name": "ipython",
    "version": 2
   },
   "file_extension": ".py",
   "mimetype": "text/x-python",
   "name": "python",
   "nbconvert_exporter": "python",
   "pygments_lexer": "ipython2",
   "version": "2.7.13"
  },
  "mimetype": "text/x-python",
  "name": "python",
  "npconvert_exporter": "python",
  "pygments_lexer": "ipython3",
  "version": 3
 },
 "nbformat": 4,
 "nbformat_minor": 2
}
