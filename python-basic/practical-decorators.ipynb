{
 "cells": [
  {
   "cell_type": "code",
   "execution_count": 0,
   "metadata": {},
   "outputs": [],
   "source": [
    "# Change directory to VSCode workspace root so that relative path loads work correctly. Turn this addition off with the DataScience.changeDirOnImportExport setting\n",
    "# ms-python.python added\n",
    "import os\n",
    "try:\n",
    "\tos.chdir(os.path.join(os.getcwd(), '../../python-tools'))\n",
    "\tprint(os.getcwd())\n",
    "except:\n",
    "\tpass\n"
   ]
  },
  {
   "cell_type": "markdown",
   "metadata": {},
   "source": [
    " ### 1. Timing\n",
    "\n",
    " * How long does it take for a function to run?"
   ]
  },
  {
   "cell_type": "markdown",
   "metadata": {},
   "source": [
    " ```\n",
    " * The inner function (“wrapper”) will run the original function\n",
    " * But it’ll keep track of the time before and after doing so.\n",
    " * Before returning the result to the user, write the timing information to a logfile\n",
    " ```"
   ]
  },
  {
   "cell_type": "code",
   "execution_count": 1,
   "metadata": {},
   "outputs": [],
   "source": [
    "import time\n",
    "import functools\n"
   ]
  },
  {
   "cell_type": "code",
   "execution_count": 2,
   "metadata": {},
   "outputs": [],
   "source": [
    "def logtime(func):\n",
    "\n",
    "    def wrapper(*args, **kwargs):\n",
    "\n",
    "        start_time = time.time()\n",
    "        result = func(*args, **kwargs)\n",
    "        total_time = time.time() - start_time\n",
    "\n",
    "        with open('timelog.txt', 'a') as outfile:\n",
    "            outfile.write(f'{time.time()}\\t{func.__name__}\\t{total_time}\\n')\n",
    "\n",
    "        return result\n",
    "\n",
    "    return wrapper\n",
    "\n"
   ]
  },
  {
   "cell_type": "code",
   "execution_count": 3,
   "metadata": {},
   "outputs": [],
   "source": [
    "@logtime\n",
    "\n",
    "def slow_add(a, b):\n",
    "    time.sleep(2)\n",
    "    return a + b\n",
    "\n"
   ]
  },
  {
   "cell_type": "code",
   "execution_count": 4,
   "metadata": {},
   "outputs": [],
   "source": [
    "@logtime\n",
    "\n",
    "def slow_mul(a, b):\n",
    "    time.sleep(3)\n",
    "    return a * b\n",
    "\n"
   ]
  },
  {
   "cell_type": "code",
   "execution_count": 5,
   "metadata": {},
   "outputs": [
    {
     "data": {
      "text/plain": [
       "200"
      ]
     },
     "execution_count": 5,
     "metadata": {},
     "output_type": "execute_result"
    }
   ],
   "source": [
    "# test function\n",
    "slow_add(100,100)\n"
   ]
  },
  {
   "cell_type": "markdown",
   "metadata": {},
   "source": [
    " records from timelogs:\n",
    "\n",
    " 1565464610.880044\tslow_add\t2.0048961639404297\n"
   ]
  },
  {
   "cell_type": "code",
   "execution_count": 6,
   "metadata": {},
   "outputs": [],
   "source": [
    "# alternative method\n",
    "def timethis(func):\n",
    "    '''\n",
    "    decortor that reports the execution time.\n",
    "    '''\n",
    "    @functools.wraps(func)\n",
    "    def wrapper(*args, **kwargs):\n",
    "        start = time.time()\n",
    "        result = func(*args, **kwargs)\n",
    "        end = time.time()\n",
    "        print(func.__name__, end-start)\n",
    "        return result\n",
    "    return wrapper"
   ]
  },
  {
   "cell_type": "code",
   "execution_count": 7,
   "metadata": {},
   "outputs": [],
   "source": [
    "@timethis\n",
    "def countdown(n):\n",
    "    '''\n",
    "    counts down\n",
    "    '''\n",
    "    while n > 0:\n",
    "        n -= 1"
   ]
  },
  {
   "cell_type": "code",
   "execution_count": 8,
   "metadata": {},
   "outputs": [
    {
     "name": "stdout",
     "output_type": "stream",
     "text": [
      "countdown 0.0011420249938964844\n"
     ]
    }
   ],
   "source": [
    "countdown(10000)"
   ]
  },
  {
   "cell_type": "markdown",
   "metadata": {},
   "source": [
    " ### 2. Run function once per minute\n",
    "\n",
    " * Raise an exception if we try to run a function more than once in 60 seconds"
   ]
  },
  {
   "cell_type": "code",
   "execution_count": 9,
   "metadata": {},
   "outputs": [],
   "source": [
    "def once_per_minute(func):\n",
    "\n",
    "    last_invoked = 0\n",
    "\n",
    "    def wrapper(*args, **kwargs):\n",
    "\n",
    "        nonlocal last_invoked\n",
    "\n",
    "        elapsed_time = time.time() - last_invoked\n",
    "\n",
    "        if elapsed_time < 60:\n",
    "\n",
    "            raise RuntimeError(f\"Only {elapsed_time} has passed\")\n",
    "\n",
    "        last_invoked = time.time()\n",
    "\n",
    "        return func(*args, **kwargs)\n",
    "\n",
    "    return wrapper\n",
    "\n"
   ]
  },
  {
   "cell_type": "code",
   "execution_count": 10,
   "metadata": {},
   "outputs": [],
   "source": [
    "@once_per_minute\n",
    "\n",
    "def add(a, b):\n",
    "    return a + b\n",
    "\n"
   ]
  },
  {
   "cell_type": "code",
   "execution_count": 11,
   "metadata": {},
   "outputs": [
    {
     "data": {
      "text/plain": [
       "5"
      ]
     },
     "execution_count": 11,
     "metadata": {},
     "output_type": "execute_result"
    }
   ],
   "source": [
    "add(2,3)\n",
    "\n"
   ]
  },
  {
   "cell_type": "markdown",
   "metadata": {},
   "source": [
    " add(2,3)\n",
    " ```\n",
    " ---------------------------------------------------------------------------\n",
    " RuntimeError                              Traceback (most recent call last)\n",
    "  in\n",
    " ----> 1 add(2,3)\n",
    "  in wrapper(*args, **kwargs)\n",
    "      11         if elapsed_time < 60:\n",
    "      12\n",
    " ---> 13             raise RuntimeError(f\"Only {elapsed_time} has passed\")\n",
    "      14\n",
    "      15         last_invoked = time.time()\n",
    " RuntimeError: Only 10.496497869491577 has passed\n",
    " ```"
   ]
  },
  {
   "cell_type": "markdown",
   "metadata": {},
   "source": [
    " ### 3. Perform function per N seconds\n",
    " * Raise an exception if we try to run a function more than once in n seconds"
   ]
  },
  {
   "cell_type": "code",
   "execution_count": 12,
   "metadata": {},
   "outputs": [],
   "source": [
    "def once_per_n(n):\n",
    "\n",
    "    def middle(func):\n",
    "        last_invoked = 0\n",
    "\n",
    "        def wrapper(*args, **kwargs):\n",
    "            nonlocal last_invoked\n",
    "            elapsed_time = time.time() - last_invoked\n",
    "            if elapsed_time < n:\n",
    "                raise RuntimeError(f\"Only {elapsed_time} has passed\")\n",
    "\n",
    "            last_invoked = time.time()\n",
    "            return func(*args, **kwargs)\n",
    "\n",
    "        return wrapper\n",
    "\n",
    "    return middle\n",
    "\n"
   ]
  },
  {
   "cell_type": "code",
   "execution_count": 13,
   "metadata": {},
   "outputs": [],
   "source": [
    "@once_per_n(10)\n",
    "\n",
    "def add(a, b):\n",
    "    return a + b\n",
    "\n"
   ]
  },
  {
   "cell_type": "code",
   "execution_count": 14,
   "metadata": {},
   "outputs": [
    {
     "data": {
      "text/plain": [
       "5"
      ]
     },
     "execution_count": 14,
     "metadata": {},
     "output_type": "execute_result"
    }
   ],
   "source": [
    "add(2,3)\n",
    "\n"
   ]
  },
  {
   "cell_type": "markdown",
   "metadata": {},
   "source": [
    " add(2,3)\n",
    " ```\n",
    " ---------------------------------------------------------------------------\n",
    " RuntimeError                              Traceback (most recent call last)\n",
    "  in\n",
    " ----> 1 add(2,3)\n",
    "  in wrapper(*args, **kwargs)\n",
    "       8             elapsed_time = time.time() - last_invoked\n",
    "       9             if elapsed_time < n:\n",
    " ---> 10                 raise RuntimeError(f\"Only {elapsed_time} has passed\")\n",
    "      11\n",
    "      12             last_invoked = time.time()\n",
    " RuntimeError: Only 0.025335073471069336 has passed\n",
    " ```"
   ]
  },
  {
   "cell_type": "markdown",
   "metadata": {},
   "source": [
    " ### 4. Memoization\n",
    " * Cache the results of function calls, so we don’t need to call them again"
   ]
  },
  {
   "cell_type": "code",
   "execution_count": 15,
   "metadata": {},
   "outputs": [],
   "source": [
    "import pickle\n",
    "\n"
   ]
  },
  {
   "cell_type": "code",
   "execution_count": 16,
   "metadata": {},
   "outputs": [],
   "source": [
    "# Executes each time the decorated function is executed\n",
    "def memoize(func):\n",
    "    cache = {}\n",
    "\n",
    "    # Executes each time the decorated function is executed\n",
    "    def wrapper(*args, **kwargs):\n",
    "        t = (pickle.dumps(args), pickle.dumps(kwargs))\n",
    "        if t not in cache:\n",
    "            print(f\"Caching NEW value for {func.__name__}{args}\")\n",
    "            cache[t] = func(*args, **kwargs)\n",
    "        else:\n",
    "            print(f\"Using OLD value for {func.__name__}{args}\")\n",
    "\n",
    "        return cache[t]\n",
    "\n",
    "    return wrapper\n",
    "\n"
   ]
  },
  {
   "cell_type": "code",
   "execution_count": 17,
   "metadata": {},
   "outputs": [],
   "source": [
    "@memoize\n",
    "def add(a, b):\n",
    "    print(\"Running add!\")\n",
    "    return a + b\n",
    "\n"
   ]
  },
  {
   "cell_type": "code",
   "execution_count": 18,
   "metadata": {},
   "outputs": [],
   "source": [
    "@memoize\n",
    "def mul(a, b):\n",
    "    print(\"Running mul!\")\n",
    "    return a * b\n",
    "\n"
   ]
  },
  {
   "cell_type": "code",
   "execution_count": 19,
   "metadata": {},
   "outputs": [
    {
     "name": "stdout",
     "output_type": "stream",
     "text": [
      "Caching NEW value for add(2, 2)\n",
      "Running add!\n"
     ]
    },
    {
     "data": {
      "text/plain": [
       "4"
      ]
     },
     "execution_count": 19,
     "metadata": {},
     "output_type": "execute_result"
    }
   ],
   "source": [
    "add(2,2)\n",
    "\n"
   ]
  },
  {
   "cell_type": "code",
   "execution_count": 20,
   "metadata": {},
   "outputs": [
    {
     "name": "stdout",
     "output_type": "stream",
     "text": [
      "Using OLD value for add(2, 2)\n"
     ]
    },
    {
     "data": {
      "text/plain": [
       "4"
      ]
     },
     "execution_count": 20,
     "metadata": {},
     "output_type": "execute_result"
    }
   ],
   "source": [
    "add(2,2)\n"
   ]
  },
  {
   "cell_type": "markdown",
   "metadata": {},
   "source": [
    " ### 5. Attributes\n",
    " * Give many objects the same attributes, but without using inheritance"
   ]
  },
  {
   "cell_type": "code",
   "execution_count": 21,
   "metadata": {},
   "outputs": [],
   "source": [
    "def fancy_repr(self):\n",
    "    return f\"I'm a {type(self)}, with vars {vars(self)}\"\n",
    "\n"
   ]
  },
  {
   "cell_type": "code",
   "execution_count": 22,
   "metadata": {},
   "outputs": [],
   "source": [
    "def better_repr(c):\n",
    "    c.__repr__ = fancy_repr\n",
    "    def wrapper(*args, **kwargs):\n",
    "        o = c(*args, **kwargs)\n",
    "        return o\n",
    "    return wrapper\n",
    "\n"
   ]
  },
  {
   "cell_type": "code",
   "execution_count": 23,
   "metadata": {},
   "outputs": [],
   "source": [
    "# Alternative approach\n",
    "def better_repr(c): #The decorated class\n",
    "    c.__repr__ = fancy_repr\n",
    "    return c #Return a callable — class\n",
    "\n"
   ]
  },
  {
   "cell_type": "code",
   "execution_count": 24,
   "metadata": {},
   "outputs": [],
   "source": [
    "@better_repr\n",
    "class Foo():\n",
    "    def __init__(self, x, y):\n",
    "        self.x = x\n",
    "        self.y = y\n",
    "\n"
   ]
  },
  {
   "cell_type": "code",
   "execution_count": 25,
   "metadata": {},
   "outputs": [
    {
     "name": "stdout",
     "output_type": "stream",
     "text": [
      "I'm a <class '__main__.Foo'>, with vars {'x': 10, 'y': [10, 20, 30]}\n"
     ]
    }
   ],
   "source": [
    "f = Foo(10, [10, 20, 30])\n",
    "print(f)\n"
   ]
  },
  {
   "cell_type": "markdown",
   "metadata": {},
   "source": [
    " * The **@object_birthday** decorator, when applied to a class, will add a new **created_at** attribute to new objects\n",
    " * Give every object its own birthday. This will contain the timestamp at which each instance was created"
   ]
  },
  {
   "cell_type": "code",
   "execution_count": 26,
   "metadata": {},
   "outputs": [],
   "source": [
    "def object_birthday(c): #The decorated class\n",
    "    def wrapper(*args, **kwargs):\n",
    "        o = c(*args, **kwargs)\n",
    "        o._created_at = time.time()\n",
    "        return o\n",
    "    return wrapper\n",
    "\n"
   ]
  },
  {
   "cell_type": "code",
   "execution_count": 27,
   "metadata": {},
   "outputs": [],
   "source": [
    "@object_birthday\n",
    "class Foo():\n",
    "    def __init__(self, x, y):\n",
    "        self.x = x\n",
    "        self.y = y\n",
    "\n"
   ]
  },
  {
   "cell_type": "code",
   "execution_count": 28,
   "metadata": {},
   "outputs": [
    {
     "name": "stdout",
     "output_type": "stream",
     "text": [
      "<__main__.Foo object at 0x11f6fe208>\n",
      "1569855089.053189\n"
     ]
    }
   ],
   "source": [
    "f = Foo(10, [10, 20, 30])\n",
    "print(f)\n",
    "print(f._created_at)\n",
    "\n"
   ]
  },
  {
   "cell_type": "code",
   "execution_count": 29,
   "metadata": {},
   "outputs": [],
   "source": [
    "def object_birthday(c):\n",
    "    c.__repr__ = fancy_repr  #Add a method to the class\n",
    "\n",
    "    def wrapper(*args, **kwargs):\n",
    "        o = c(*args, **kwargs)\n",
    "        o._created_at = time.time()  #Add an attribute to the instance\n",
    "        return o\n",
    "    return wrapper\n",
    "\n"
   ]
  },
  {
   "cell_type": "code",
   "execution_count": 30,
   "metadata": {},
   "outputs": [],
   "source": [
    "@object_birthday\n",
    "class Foo():\n",
    "    def __init__(self, x, y):\n",
    "        self.x = x\n",
    "        self.y = y\n",
    "\n",
    "\n"
   ]
  },
  {
   "cell_type": "code",
   "execution_count": 31,
   "metadata": {},
   "outputs": [
    {
     "name": "stdout",
     "output_type": "stream",
     "text": [
      "I'm a <class '__main__.Foo'>, with vars {'x': 10, 'y': [10, 20, 30], '_created_at': 1569855089.358295}\n"
     ]
    }
   ],
   "source": [
    "f = Foo(10, [10, 20, 30])\n",
    "print(f)\n",
    "\n"
   ]
  }
 ],
 "metadata": {
  "file_extension": ".py",
  "kernelspec": {
   "display_name": "Python 3",
   "language": "python",
   "name": "python3"
  },
  "language_info": {
   "codemirror_mode": {
    "name": "ipython",
    "version": 3
   },
   "file_extension": ".py",
   "mimetype": "text/x-python",
   "name": "python",
   "nbconvert_exporter": "python",
   "pygments_lexer": "ipython3",
   "version": "3.7.1"
  },
  "mimetype": "text/x-python",
  "name": "python",
  "npconvert_exporter": "python",
  "pygments_lexer": "ipython3",
  "version": 3
 },
 "nbformat": 4,
 "nbformat_minor": 2
}
