{
 "cells": [
  {
   "cell_type": "markdown",
   "metadata": {},
   "source": [
    "### 1. Defining generator functions with extra state"
   ]
  },
  {
   "cell_type": "code",
   "execution_count": 1,
   "metadata": {},
   "outputs": [],
   "source": [
    "import collections"
   ]
  },
  {
   "cell_type": "code",
   "execution_count": 25,
   "metadata": {},
   "outputs": [],
   "source": [
    "class linehistory:\n",
    "    def __init__(self, lines, histlen=3):\n",
    "        self.line = lines\n",
    "        self.history = collections.deque(maxlen = histlen)\n",
    "        \n",
    "    def __iter__(self):\n",
    "        for lineno, line in enumerate(self.line, 1):\n",
    "            self.history.append((lineno, line))\n",
    "            yield line\n",
    "\n",
    "    def clear(self):\n",
    "        self.history.clear()\n",
    "\n",
    "            "
   ]
  },
  {
   "cell_type": "code",
   "execution_count": 52,
   "metadata": {},
   "outputs": [
    {
     "name": "stdout",
     "output_type": "stream",
     "text": [
      "1326:ELAINE: I'd do it but I don't have any money.\n",
      "\n",
      "1327:JERRY: What kind of company is it?\n",
      "\n",
      "1328:GEORGE: It's called Sendrax. They've got some new kind of technique for televising opera.\n",
      "\n",
      "7103:GEORGE: Yeah, yeah. I've heard that. Meanwhile I'm here with you in a parking garage, what am I supposed to do?\n",
      "\n",
      "7104:[ACT TWO SCENE E INT. SECURITY OFFICE - JERRY AND THE SECURITY GUARD.]\n",
      "\n",
      "7105:JERRY: First of all you don't even know technically that I went. That's for starters. I mean I could've been pouring a bottle of water out there. You don't know.\n",
      "\n",
      "8272:GEORGE: (interrupting) Elaine. Shut up.\n",
      "\n",
      "8273:[Closing Monologue]\n",
      "\n",
      "8274:The technical term for a nose job is rhinoplasty. Rhino, okay? Do we really need to insult the person at this particular moment of their lives? They know they have a big nose, that's why they're coming in. Do they really need the abuse of being compared to a rhinoceros on top of everything else? When someone goes in for a hair transplant, they don't go, \"We're going to perform a cue-ballectomy on you, Mr. Johnson. We're going to attempt to remove the skinheadia of your chrome-domus which is the technical term.\"\n",
      "\n",
      "8929:KRAMER: Alright, I'll tell you what. Next time I talk to him, maybe I'll bring it up. I'll feel him out.\n",
      "\n",
      "8930:[Middle Monologue]\n",
      "\n",
      "8931:What do you think first aid was like though, like hundreds of years ago? You know, I mean they had no medicine, no drugs, no technology, no equipment. Basically, they were there first. That was it, that was the whole first aid. They sit with you. That's all they could do. 'Can you help me?' 'No, no we can't help you, we were the first ones here, I don't know if you know that. Did you see out truck? First aid, that's our motto. We show up before anybody.'\n",
      "\n",
      "12646:[Closing monologue]\n",
      "\n",
      "12647:People will kill each other for a parking space in New York because they think, 'If I don't get this one, I may never get a space.' You know? 'I'll be circling for months until somebody goes out to the Hamptons.' I think because everyone in New York City knows there's gotta be way more cars than parking spaces. You see cars driving in New York all hours of the night. It's like Musical Chairs except everybody sat down around 1964. The problem is car manufacturers are building hundreds of thousands of new cars every year, they're not making any new spaces. That's what they should be working on. Wouldn't that be great? You go to the Auto Show, they got that big revolving turntable, and there's nothing on it. New from Chrysler, a space.\n",
      "\n",
      "12648:Jerry's stand-up: So, I fly a lot. I like planes. I was on a plane the other day and I was wondering - are there keys to the plane? Do they need keys to start the plane? Maybe that's what those delays on the ground are sometimes. When you're just sitting there at the gate, maybe the pilot's just up there in the cockpit going (mimics looking for keys) \"Oh, I don't believe this. Oh my god...I did it again.\" They tell you it's something mechanical, because they don't want to come on the PA system...\"Ladies and gentlemen, we're going to be delayed here on the ground for a little while, I uh...Oh God, this is so embarrassing...I - I left the keys to the plane in my apartment.\" You see the technicians all running underneath the plane; you think they're servicing it, but they're actually looking for the magnet \"hide-a-key\" under the wing...\"maybe he left it up there somewhere...\"\n",
      "\n",
      "12865:JERRY: What is the big deal?\n",
      "\n",
      "12866:GEORGE: Just because you have someone's spare keys, it doesn't entitle you to break into their apartment. That's the reason you took away Kramer's keys.\n",
      "\n",
      "12867:JERRY: First of all, you're not even supposed to have Elaine's keys. You're supposed to give 'em back to her, so she can give 'em back to me, because she has mine. So technically, those are my keys.\n",
      "\n",
      "13006:GEORGE: Is there a meal allowance? What about seat assignments? Could I have the Kosher meal? I hear the Kosher meal is good. And I need clothes. Gotta get a haircut. Gonna have to, I have to refill my allergy medication. Oh, do I need a hat? I need a hat, don't I? Could we do the Universal tour? They have that Backdraft exhibit now, that looks very cool to me...\n",
      "\n",
      "13007:[Kramer, backstage, talking to some aspiring young actors.]\n",
      "\n",
      "13008:KRAMER: So my acting technique, my personal acting technique is working with color, imagining color, then finding the emotional vibrational mood connected to the color. See, if you look through my scripts, you'll see that all my lines have a special color, so I don't memorize language, I memorize color. This way I can go through red, yellow, green, blue. And I have a full palette of emotions.\n",
      "\n",
      "15701:SUSAN: It's a long story.\n",
      "\n",
      "15702:GEORGE: Yeah.\n",
      "\n",
      "15703:(Two emergency med. techs. pulling a stretcher on wheels out the door with Donald the Bubble Boy? on it. They stop so he can talk to the group.)\n",
      "\n",
      "18428:ELAINE: Yeah, but Babu, he could have come to my house to pick it up.\n",
      "\n",
      "18429:BABU: You had my Visa application?!\n",
      "\n",
      "18430:JERRY: Well not technically.\n",
      "\n",
      "23979:ELAINE: Uh, does it matter if it's melted?\n",
      "\n",
      "23980:LAB TECHNICIAN: No! (Jerry looks at Kramer) You know, this is going to take a couple of days.\n",
      "\n",
      "23981:(Kramer notices a female lab tech and goes over to her)\n",
      "\n",
      "24731:[setting: street in front of Jerry's building]\n",
      "\n",
      "24732:(George and Jodi)\n",
      "\n",
      "24733:GEORGE: No one hails a cab like me. My hailing technique is unmatched. I get the wrist going from side to side and boom! Cabs are crashing into themselves to just pick me up. (a cab stops) All right, here we go. Let me get door. Feminists aside, I know women like the door holding. Here we are all righty. O.K. Jodi let's get together again real soon and say hello to your sister for me.\n",
      "\n",
      "32612:JERRY: Oh, he's a dentist. You don't want to go out with a dentist.\n",
      "\n",
      "32613:ELAINE: Why?\n",
      "\n",
      "32614:JERRY: He'll always be criticizing your brushing technique, it'll drive you crazy. (Mimics brushing his teeth) Away from the gums... (The door opens a little, George jangles the keys to his new car at Jerry and Elaine, then enters.)\n",
      "\n",
      "39619:KRAMER: Huh?\n",
      "\n",
      "39620:BOBBY: … that's not a home run. (grabs frame)\n",
      "\n",
      "39621:KRAMER: Yeah, maybe not technically, but …\n",
      "\n",
      "59626:ELAINE: (leaving the room after rubbing Peggy's keyboard on her butt, sticking the stapler in her armpit, and coughing on her doorknob) Oh. All right. You think I've got germs? I'll give you some germs. How about some for your keyboard, huh? Huh? Oooh, how about for your stapler. Hmmm? That's good, isn't it? You have a happy and a healthy.\n",
      "\n",
      "59627:[Jerry's Apartment]\n",
      "\n",
      "59628:JERRY: Well, technically he did apologize.\n",
      "\n",
      "59774:KID: (entering the store) Can I get a Triple Minute Man Mint?\n",
      "\n",
      "59775:HANKE: Waffle or sugar cone?\n",
      "\n",
      "59776:GEORGE: Uh, excuse me, uh, um, Jason. I don't want to get into a big thing here, but... I'm not sure if, technically, what you just said was actually an apology.\n",
      "\n"
     ]
    }
   ],
   "source": [
    "with open('../data/corpus.txt') as f:\n",
    "    lines = linehistory(f)\n",
    "    for line in lines:\n",
    "        if \"tech\" in line:\n",
    "            for lineno, hline in lines.history:\n",
    "                print('{}:{}'.format(lineno, hline))\n",
    "                "
   ]
  },
  {
   "cell_type": "markdown",
   "metadata": {},
   "source": [
    "### More Examples\n",
    "\n",
    "* Memory Efficiency"
   ]
  },
  {
   "cell_type": "code",
   "execution_count": 3,
   "metadata": {},
   "outputs": [],
   "source": [
    "import math"
   ]
  },
  {
   "cell_type": "code",
   "execution_count": 4,
   "metadata": {},
   "outputs": [],
   "source": [
    "def scale_to_log10(till_number):\n",
    "    for num in range(1, till_number):\n",
    "        yield math.log10(num)"
   ]
  },
  {
   "cell_type": "code",
   "execution_count": 5,
   "metadata": {},
   "outputs": [
    {
     "data": {
      "text/plain": [
       "<generator object scale_to_log10 at 0x109af5408>"
      ]
     },
     "execution_count": 5,
     "metadata": {},
     "output_type": "execute_result"
    }
   ],
   "source": [
    "scale_to_log10(100)"
   ]
  },
  {
   "cell_type": "code",
   "execution_count": 6,
   "metadata": {},
   "outputs": [
    {
     "name": "stdout",
     "output_type": "stream",
     "text": [
      "0.0\n",
      "0.3010299956639812\n",
      "0.47712125471966244\n",
      "0.6020599913279624\n",
      "0.6989700043360189\n",
      "0.7781512503836436\n",
      "0.8450980400142568\n",
      "0.9030899869919435\n",
      "0.9542425094393249\n"
     ]
    }
   ],
   "source": [
    "for log_num in scale_to_log10(10):\n",
    "    print(log_num)"
   ]
  },
  {
   "cell_type": "markdown",
   "metadata": {},
   "source": [
    "* The major difference between a list comprehension and a generator expression is that while list comprehension produces the entire list, generator expression produces one item at a time."
   ]
  },
  {
   "cell_type": "code",
   "execution_count": 7,
   "metadata": {},
   "outputs": [
    {
     "data": {
      "text/plain": [
       "[1, 9, 36, 100]"
      ]
     },
     "execution_count": 7,
     "metadata": {},
     "output_type": "execute_result"
    }
   ],
   "source": [
    "my_list = [1, 3, 6, 10]\n",
    "\n",
    "[x**2 for x in my_list]\n"
   ]
  },
  {
   "cell_type": "code",
   "execution_count": 8,
   "metadata": {},
   "outputs": [
    {
     "name": "stdout",
     "output_type": "stream",
     "text": [
      "1\n",
      "9\n",
      "36\n",
      "100\n"
     ]
    },
    {
     "ename": "StopIteration",
     "evalue": "",
     "output_type": "error",
     "traceback": [
      "\u001b[0;31m---------------------------------------------------------------------------\u001b[0m",
      "\u001b[0;31mStopIteration\u001b[0m                             Traceback (most recent call last)",
      "\u001b[0;32m<ipython-input-8-d11ae07ae912>\u001b[0m in \u001b[0;36m<module>\u001b[0;34m\u001b[0m\n\u001b[1;32m      5\u001b[0m \u001b[0mprint\u001b[0m\u001b[0;34m(\u001b[0m\u001b[0mnext\u001b[0m\u001b[0;34m(\u001b[0m\u001b[0ma\u001b[0m\u001b[0;34m)\u001b[0m\u001b[0;34m)\u001b[0m\u001b[0;34m\u001b[0m\u001b[0;34m\u001b[0m\u001b[0m\n\u001b[1;32m      6\u001b[0m \u001b[0mprint\u001b[0m\u001b[0;34m(\u001b[0m\u001b[0mnext\u001b[0m\u001b[0;34m(\u001b[0m\u001b[0ma\u001b[0m\u001b[0;34m)\u001b[0m\u001b[0;34m)\u001b[0m\u001b[0;34m\u001b[0m\u001b[0;34m\u001b[0m\u001b[0m\n\u001b[0;32m----> 7\u001b[0;31m \u001b[0mnext\u001b[0m\u001b[0;34m(\u001b[0m\u001b[0ma\u001b[0m\u001b[0;34m)\u001b[0m\u001b[0;34m\u001b[0m\u001b[0;34m\u001b[0m\u001b[0m\n\u001b[0m",
      "\u001b[0;31mStopIteration\u001b[0m: "
     ]
    }
   ],
   "source": [
    "a = (x**2 for x in my_list)\n",
    "\n",
    "print(next(a))\n",
    "print(next(a))\n",
    "print(next(a))\n",
    "print(next(a))\n",
    "next(a)"
   ]
  },
  {
   "cell_type": "code",
   "execution_count": 9,
   "metadata": {},
   "outputs": [
    {
     "data": {
      "text/plain": [
       "146"
      ]
     },
     "execution_count": 9,
     "metadata": {},
     "output_type": "execute_result"
    }
   ],
   "source": [
    "sum(x**2 for x in my_list)\n"
   ]
  },
  {
   "cell_type": "code",
   "execution_count": null,
   "metadata": {},
   "outputs": [],
   "source": []
  }
 ],
 "metadata": {
  "kernelspec": {
   "display_name": "Python 3",
   "language": "python",
   "name": "python3"
  },
  "language_info": {
   "codemirror_mode": {
    "name": "ipython",
    "version": 3
   },
   "file_extension": ".py",
   "mimetype": "text/x-python",
   "name": "python",
   "nbconvert_exporter": "python",
   "pygments_lexer": "ipython3",
   "version": "3.7.1"
  }
 },
 "nbformat": 4,
 "nbformat_minor": 2
}
