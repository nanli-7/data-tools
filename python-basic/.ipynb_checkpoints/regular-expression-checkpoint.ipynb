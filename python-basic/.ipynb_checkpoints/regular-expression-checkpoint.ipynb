{
 "cells": [
  {
   "cell_type": "markdown",
   "metadata": {},
   "source": [
    "## Regular Expressions in Python\n",
    "\n",
    "Regular Expressions are a sequence of characters used to find and replace patterns in a string In simple terms it is a tool for matching patterns in text."
   ]
  },
  {
   "cell_type": "code",
   "execution_count": 1,
   "metadata": {},
   "outputs": [],
   "source": [
    "import re"
   ]
  },
  {
   "cell_type": "markdown",
   "metadata": {},
   "source": [
    "__Main uses of regular expression__\n",
    "\n",
    "* Finding a string\n",
    "* Replace part of a string\n",
    "* Search a string\n",
    "* Break our string into a sub strings\n"
   ]
  },
  {
   "cell_type": "markdown",
   "metadata": {},
   "source": [
    "__Methods of Regular Expressions__\n",
    "```\n",
    "\\w --> Matches with alphanumeric characters [a-z,A-Z,0-9]\n",
    "\\W --> Matches non-alphanumeric characters\n",
    "\\d --> Matches with digits [0-9]\n",
    "\\D --> Matches with all non-digits\n",
    "\\s --> Matches with a single space character\n",
    "\\S ---> Matches except space reaming all\n",
    "\\t --> Matches Tab\n",
    "\\n --> Matches newline\n",
    "\\r --> Matches return\n",
    ". --> Matches any charcter except \\n\n",
    "() --> groups regular expressions and returns matched text\n",
    "a|b --> Matches either a or b\n",
    "^ --> starting Position\n",
    "$ --> ending Position\n",
    "{m} --> Matches must and should m\n",
    "{m,} --> Matches more than m\n",
    "{m,n} --> Matches a digit between m and n in length\n",
    "? --> Matches one or zero occurance of the pattern\n",
    "plus(+) --> Matches one or more occurance of the pattern\n",
    "```"
   ]
  },
  {
   "cell_type": "markdown",
   "metadata": {},
   "source": [
    "```\n",
    "sub ----> Find all substrings where re matches, & replace them with a different string\n",
    "subn -----> same as sub(), but returns the new string & the number of replacements\n",
    "start ----> This will give starting position\n",
    "end ----> This will give ending position\n",
    "span ----> This will give starting and ending positions of a sub string\n",
    "search ----> Entire string searching\n",
    "match ----> First word searching\n",
    "findall ----> Mutiple times searching in string\n",
    "compile -----> We can compile pattern into pattern object\n",
    "```"
   ]
  },
  {
   "cell_type": "markdown",
   "metadata": {},
   "source": [
    "### 1. re.search()\n",
    "* This search method will search in the entire string and gives the result. \n",
    "* If more than one match it rerurns the first occurance of the search pattern"
   ]
  },
  {
   "cell_type": "code",
   "execution_count": 2,
   "metadata": {},
   "outputs": [
    {
     "name": "stdout",
     "output_type": "stream",
     "text": [
      "<re.Match object; span=(28, 38), match='7867465789'>\n",
      "7867465789\n",
      "28\n",
      "38\n"
     ]
    }
   ],
   "source": [
    "s=(\"Hi i am python and my no is 7867465789\")\n",
    "z=re.search('\\d{10}',s)\n",
    "print(z)\n",
    "print(z.group(0))\n",
    "print(z.start())\n",
    "print(z.end())"
   ]
  },
  {
   "cell_type": "code",
   "execution_count": 3,
   "metadata": {},
   "outputs": [
    {
     "data": {
      "text/plain": [
       "<re.Match object; span=(0, 13), match='9876543210999'>"
      ]
     },
     "execution_count": 3,
     "metadata": {},
     "output_type": "execute_result"
    }
   ],
   "source": [
    "re.search(r'\\d{13}', '9876543210999999999999')"
   ]
  },
  {
   "cell_type": "code",
   "execution_count": 4,
   "metadata": {},
   "outputs": [
    {
     "name": "stdout",
     "output_type": "stream",
     "text": [
      "<re.Match object; span=(3, 10), match='Welcome'>\n"
     ]
    }
   ],
   "source": [
    "s = (\"hi Welcome to python course\")\n",
    "g = re.search('welcome',s,re.I|re.M)\n",
    "print(g)"
   ]
  },
  {
   "cell_type": "markdown",
   "metadata": {},
   "source": [
    "### 2. re.match()\n",
    "* It will search first word in the given string. If the first word will match it will give the required output, if the first word doesn't match it will give None as output"
   ]
  },
  {
   "cell_type": "code",
   "execution_count": 5,
   "metadata": {},
   "outputs": [
    {
     "name": "stdout",
     "output_type": "stream",
     "text": [
      "<re.Match object; span=(0, 2), match='hi'>\n",
      "hi\n"
     ]
    }
   ],
   "source": [
    "s = (\"hi.hello Welcome, my name is python\")\n",
    "y = re.match('hi',s)\n",
    "print(y)\n",
    "print(y.group(0))"
   ]
  },
  {
   "cell_type": "code",
   "execution_count": 6,
   "metadata": {},
   "outputs": [
    {
     "name": "stdout",
     "output_type": "stream",
     "text": [
      "None\n"
     ]
    }
   ],
   "source": [
    "d = re.match('hello',s)\n",
    "print(d)"
   ]
  },
  {
   "cell_type": "markdown",
   "metadata": {},
   "source": [
    "### 3. re.findall()\n",
    "* Findall returns all the non-overlapping matches of patterns in a string.\n",
    "\n"
   ]
  },
  {
   "cell_type": "code",
   "execution_count": 7,
   "metadata": {},
   "outputs": [
    {
     "name": "stdout",
     "output_type": "stream",
     "text": [
      "['h', 'h', 'h', 'h']\n"
     ]
    }
   ],
   "source": [
    "s=(\"hey hi hello how are you?\")\n",
    "i=re.findall('h',s)\n",
    "print(i)"
   ]
  },
  {
   "cell_type": "code",
   "execution_count": 8,
   "metadata": {},
   "outputs": [
    {
     "name": "stdout",
     "output_type": "stream",
     "text": [
      "['robot-zs9112@gmail.com', 'cleaning.robot@gmail.com']\n"
     ]
    }
   ],
   "source": [
    "s = (\"hi i am robot and my email id is robot-zs9112@gmail.com, my another email id is cleaning.robot@gmail.com\")\n",
    "# here re.findall() returns a list of all the found email strings\n",
    "z = re.findall(r'[\\w\\.-]+@[\\w\\.-]+',s)\n",
    "print(z)"
   ]
  },
  {
   "cell_type": "code",
   "execution_count": 9,
   "metadata": {},
   "outputs": [
    {
     "name": "stdout",
     "output_type": "stream",
     "text": [
      "['i', 'l', 'o', 'v', 'e', 'p', 'y', 't', 'h', 'o', 'n']\n"
     ]
    }
   ],
   "source": [
    "print(re.findall(r'\\w','i love python'))\n"
   ]
  },
  {
   "cell_type": "code",
   "execution_count": 11,
   "metadata": {},
   "outputs": [
    {
     "name": "stdout",
     "output_type": "stream",
     "text": [
      "Shake Shack is a great burgher restaurant in the World!\n"
     ]
    }
   ],
   "source": [
    "result=re.sub(r'New York','the World','Shake Shack is a great burgher restaurant in New York!')\n",
    "print(result)\n"
   ]
  },
  {
   "cell_type": "markdown",
   "metadata": {},
   "source": [
    "### 4. re.compile()\n",
    "* We can combine a regular expression pattern into pattern objects,which can be used for pattern matching.It also helps to search a pattern without rewriting it"
   ]
  },
  {
   "cell_type": "code",
   "execution_count": 12,
   "metadata": {},
   "outputs": [
    {
     "name": "stdout",
     "output_type": "stream",
     "text": [
      "['good']\n",
      "['good']\n"
     ]
    }
   ],
   "source": [
    "pattern=re.compile('good')\n",
    "a=pattern.findall('When you think positive good things happen')\n",
    "print (a)\n",
    "b=pattern.findall('Life is all about having a good time')\n",
    "print (b)"
   ]
  },
  {
   "cell_type": "markdown",
   "metadata": {},
   "source": [
    "### 5. More Examples"
   ]
  },
  {
   "cell_type": "markdown",
   "metadata": {},
   "source": [
    "* __a. Extract all characters from a given string__"
   ]
  },
  {
   "cell_type": "code",
   "execution_count": 15,
   "metadata": {},
   "outputs": [
    {
     "name": "stdout",
     "output_type": "stream",
     "text": [
      "['K', 'a', 't', 'e', ' ', 'l', 'o', 'v', 'e', 's', ' ', 'P', 'y', 't', 'h', 'o', 'n']\n"
     ]
    }
   ],
   "source": [
    "a=re.findall(r'.','Kate loves Python')\n",
    "print (a)\n"
   ]
  },
  {
   "cell_type": "markdown",
   "metadata": {},
   "source": [
    "* __b. Extract each word from a given string__\n",
    "\n"
   ]
  },
  {
   "cell_type": "code",
   "execution_count": 18,
   "metadata": {},
   "outputs": [
    {
     "name": "stdout",
     "output_type": "stream",
     "text": [
      "['Hello', '', '', 'world', '', '']\n"
     ]
    }
   ],
   "source": [
    "b=re.findall(r'\\w*','Hello, world!')\n",
    "print (b)"
   ]
  },
  {
   "cell_type": "markdown",
   "metadata": {},
   "source": [
    "* __c. extract numbers from a given string__\n",
    "\n"
   ]
  },
  {
   "cell_type": "code",
   "execution_count": 20,
   "metadata": {},
   "outputs": [
    {
     "name": "stdout",
     "output_type": "stream",
     "text": [
      "['7867465789']\n"
     ]
    }
   ],
   "source": [
    "c=re.findall(r'\\d+',\"Hi i am python and my no is 7867465789\")\n",
    "\n",
    "print(c)"
   ]
  },
  {
   "cell_type": "code",
   "execution_count": null,
   "metadata": {},
   "outputs": [],
   "source": []
  }
 ],
 "metadata": {
  "kernelspec": {
   "display_name": "Python 3",
   "language": "python",
   "name": "python3"
  },
  "language_info": {
   "codemirror_mode": {
    "name": "ipython",
    "version": 3
   },
   "file_extension": ".py",
   "mimetype": "text/x-python",
   "name": "python",
   "nbconvert_exporter": "python",
   "pygments_lexer": "ipython3",
   "version": "3.7.1"
  }
 },
 "nbformat": 4,
 "nbformat_minor": 2
}
