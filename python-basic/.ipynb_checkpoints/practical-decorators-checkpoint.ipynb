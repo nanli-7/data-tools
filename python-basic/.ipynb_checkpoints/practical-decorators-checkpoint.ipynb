{
 "cells": [
  {
   "cell_type": "markdown",
   "metadata": {},
   "source": [
    "### 1. Timing\n",
    "\n",
    "* How long does it take for a function to run?"
   ]
  },
  {
   "cell_type": "markdown",
   "metadata": {},
   "source": [
    "```\n",
    "* The inner function (“wrapper”) will run the original function \n",
    "* But it’ll keep track of the time before and after doing so.\n",
    "* Before returning the result to the user, write the timing information to a logfile\n",
    "```"
   ]
  },
  {
   "cell_type": "code",
   "execution_count": 9,
   "metadata": {},
   "outputs": [],
   "source": [
    "import time"
   ]
  },
  {
   "cell_type": "code",
   "execution_count": 2,
   "metadata": {},
   "outputs": [],
   "source": [
    "def logtime(func):\n",
    "    \n",
    "    def wrapper(*args, **kwargs):\n",
    "        \n",
    "        start_time = time.time()\n",
    "        result = func(*args, **kwargs)\n",
    "        total_time = time.time() - start_time\n",
    "        \n",
    "        with open('timelog.txt', 'a') as outfile: \n",
    "            outfile.write(f'{time.time()}\\t{func.__name__}\\t{total_time}\\n')\n",
    "            \n",
    "        return result \n",
    "    \n",
    "    return wrapper"
   ]
  },
  {
   "cell_type": "code",
   "execution_count": 6,
   "metadata": {},
   "outputs": [],
   "source": [
    "@logtime\n",
    "\n",
    "def slow_add(a, b): \n",
    "    time.sleep(2)\n",
    "    return a + b\n"
   ]
  },
  {
   "cell_type": "code",
   "execution_count": 7,
   "metadata": {},
   "outputs": [],
   "source": [
    "@logtime\n",
    "\n",
    "def slow_mul(a, b):     \n",
    "    time.sleep(3)    \n",
    "    return a * b"
   ]
  },
  {
   "cell_type": "code",
   "execution_count": 10,
   "metadata": {},
   "outputs": [
    {
     "data": {
      "text/plain": [
       "200"
      ]
     },
     "execution_count": 10,
     "metadata": {},
     "output_type": "execute_result"
    }
   ],
   "source": [
    "# test function\n",
    "slow_add(100,100)"
   ]
  },
  {
   "cell_type": "markdown",
   "metadata": {},
   "source": [
    "records from timelogs:\n",
    "\n",
    "1565464610.880044\tslow_add\t2.0048961639404297\n",
    "\n"
   ]
  },
  {
   "cell_type": "markdown",
   "metadata": {},
   "source": [
    "### 2. Run function once per minute\n",
    "\n",
    "* Raise an exception if we try to run a function more than once in 60 seconds"
   ]
  },
  {
   "cell_type": "code",
   "execution_count": null,
   "metadata": {},
   "outputs": [],
   "source": []
  }
 ],
 "metadata": {
  "kernelspec": {
   "display_name": "Python 3",
   "language": "python",
   "name": "python3"
  },
  "language_info": {
   "codemirror_mode": {
    "name": "ipython",
    "version": 3
   },
   "file_extension": ".py",
   "mimetype": "text/x-python",
   "name": "python",
   "nbconvert_exporter": "python",
   "pygments_lexer": "ipython3",
   "version": "3.7.1"
  }
 },
 "nbformat": 4,
 "nbformat_minor": 2
}
