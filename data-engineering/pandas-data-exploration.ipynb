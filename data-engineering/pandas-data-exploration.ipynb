{
 "nbformat": 4,
 "nbformat_minor": 2,
 "metadata": {
  "language_info": {
   "name": "python",
   "codemirror_mode": {
    "name": "ipython",
    "version": 3
   },
   "version": "3.7.4"
  },
  "orig_nbformat": 2,
  "file_extension": ".py",
  "mimetype": "text/x-python",
  "name": "python",
  "npconvert_exporter": "python",
  "pygments_lexer": "ipython3",
  "version": 3
 },
 "cells": [
  {
   "cell_type": "markdown",
   "execution_count": 52,
   "metadata": {},
   "outputs": [
    {
     "ename": "SyntaxError",
     "evalue": "invalid syntax (<ipython-input-52-e4c873e7b2ec>, line 3)",
     "output_type": "error",
     "traceback": [
      "\u001b[0;36m  File \u001b[0;32m\"<ipython-input-52-e4c873e7b2ec>\"\u001b[0;36m, line \u001b[0;32m3\u001b[0m\n\u001b[0;31m    In this script, we'll use pandas to analyze NBA results provided by FiveThirtyEight (in a 17MB CSV file):\u001b[0m\n\u001b[0m          ^\u001b[0m\n\u001b[0;31mSyntaxError\u001b[0m\u001b[0;31m:\u001b[0m invalid syntax\n"
     ]
    }
   ],
   "source": [
    "### Introduction\n",
    "\n",
    "In this script, we'll use pandas to analyze NBA results provided by FiveThirtyEight (in a 17MB CSV file):\n",
    "* Calculate metrics about the data\n",
    "* Perform basic queries and aggregations\n",
    "* Discover and handle incorrect data, inconsistencies, and missing values\n",
    "* Visualize the data with plots"
   ]
  },
  {
   "cell_type": "code",
   "execution_count": 32,
   "metadata": {},
   "outputs": [],
   "source": [
    "import pandas"
   ]
  },
  {
   "cell_type": "code",
   "execution_count": 47,
   "metadata": {},
   "outputs": [
    {
     "name": "stdout",
     "output_type": "stream",
     "text": "/Users/hannahli/Documents/data-analysis-project/data-tools-master\n"
    }
   ],
   "source": [
    "import os\n",
    "print(os.getcwd())\n"
   ]
  },
  {
   "cell_type": "markdown",
   "execution_count": null,
   "metadata": {},
   "outputs": [],
   "source": [
    "### 1. Loading data from website "
   ]
  },
  {
   "cell_type": "code",
   "execution_count": 48,
   "metadata": {},
   "outputs": [],
   "source": [
    "import requests"
   ]
  },
  {
   "cell_type": "code",
   "execution_count": 49,
   "metadata": {},
   "outputs": [],
   "source": [
    "download_url = \"https://raw.githubusercontent.com/fivethirtyeight/data/master/nba-elo/nbaallelo.csv\"\n",
    "target_csv_path = \"./data/nba-all-elo.csv\"\n"
   ]
  },
  {
   "cell_type": "code",
   "execution_count": 50,
   "metadata": {},
   "outputs": [
    {
     "name": "stdout",
     "output_type": "stream",
     "text": "Download ready.\n"
    }
   ],
   "source": [
    "response = requests.get(download_url)\n",
    "response.raise_for_status()    # Check that the request was successful\n",
    "with open(target_csv_path, \"wb\") as f:\n",
    "    f.write(response.content)\n",
    "print(\"Download ready.\")"
   ]
  },
  {
   "cell_type": "code",
   "execution_count": 51,
   "metadata": {},
   "outputs": [
    {
     "data": {
      "text/plain": "pandas.core.frame.DataFrame"
     },
     "execution_count": 51,
     "metadata": {},
     "output_type": "execute_result"
    }
   ],
   "source": [
    "nba = pandas.read_csv('./data/nba-all-elo.csv')\n",
    "type(nba)"
   ]
  },
  {
   "cell_type": "markdown",
   "execution_count": null,
   "metadata": {},
   "outputs": [],
   "source": [
    "### 2. Dimensionality of dataframe\n"
   ]
  },
  {
   "cell_type": "code",
   "execution_count": 53,
   "metadata": {},
   "outputs": [
    {
     "data": {
      "text/plain": "126314"
     },
     "execution_count": 53,
     "metadata": {},
     "output_type": "execute_result"
    }
   ],
   "source": [
    "len(nba)"
   ]
  },
  {
   "cell_type": "code",
   "execution_count": 56,
   "metadata": {},
   "outputs": [
    {
     "data": {
      "text/plain": "(126314, 23)"
     },
     "execution_count": 56,
     "metadata": {},
     "output_type": "execute_result"
    }
   ],
   "source": [
    "nba.shape"
   ]
  },
  {
   "cell_type": "code",
   "execution_count": 58,
   "metadata": {},
   "outputs": [
    {
     "data": {
      "text/html": "<div>\n<style scoped>\n    .dataframe tbody tr th:only-of-type {\n        vertical-align: middle;\n    }\n\n    .dataframe tbody tr th {\n        vertical-align: top;\n    }\n\n    .dataframe thead th {\n        text-align: right;\n    }\n</style>\n<table border=\"1\" class=\"dataframe\">\n  <thead>\n    <tr style=\"text-align: right;\">\n      <th></th>\n      <th>gameorder</th>\n      <th>game_id</th>\n      <th>lg_id</th>\n      <th>_iscopy</th>\n      <th>year_id</th>\n      <th>date_game</th>\n      <th>seasongame</th>\n      <th>is_playoffs</th>\n      <th>team_id</th>\n      <th>fran_id</th>\n      <th>...</th>\n      <th>win_equiv</th>\n      <th>opp_id</th>\n      <th>opp_fran</th>\n      <th>opp_pts</th>\n      <th>opp_elo_i</th>\n      <th>opp_elo_n</th>\n      <th>game_location</th>\n      <th>game_result</th>\n      <th>forecast</th>\n      <th>notes</th>\n    </tr>\n  </thead>\n  <tbody>\n    <tr>\n      <td>0</td>\n      <td>1</td>\n      <td>194611010TRH</td>\n      <td>NBA</td>\n      <td>0</td>\n      <td>1947</td>\n      <td>11/1/1946</td>\n      <td>1</td>\n      <td>0</td>\n      <td>TRH</td>\n      <td>Huskies</td>\n      <td>...</td>\n      <td>40.294830</td>\n      <td>NYK</td>\n      <td>Knicks</td>\n      <td>68</td>\n      <td>1300.0000</td>\n      <td>1306.7233</td>\n      <td>H</td>\n      <td>L</td>\n      <td>0.640065</td>\n      <td>NaN</td>\n    </tr>\n    <tr>\n      <td>1</td>\n      <td>1</td>\n      <td>194611010TRH</td>\n      <td>NBA</td>\n      <td>1</td>\n      <td>1947</td>\n      <td>11/1/1946</td>\n      <td>1</td>\n      <td>0</td>\n      <td>NYK</td>\n      <td>Knicks</td>\n      <td>...</td>\n      <td>41.705170</td>\n      <td>TRH</td>\n      <td>Huskies</td>\n      <td>66</td>\n      <td>1300.0000</td>\n      <td>1293.2767</td>\n      <td>A</td>\n      <td>W</td>\n      <td>0.359935</td>\n      <td>NaN</td>\n    </tr>\n    <tr>\n      <td>2</td>\n      <td>2</td>\n      <td>194611020CHS</td>\n      <td>NBA</td>\n      <td>0</td>\n      <td>1947</td>\n      <td>11/2/1946</td>\n      <td>1</td>\n      <td>0</td>\n      <td>CHS</td>\n      <td>Stags</td>\n      <td>...</td>\n      <td>42.012257</td>\n      <td>NYK</td>\n      <td>Knicks</td>\n      <td>47</td>\n      <td>1306.7233</td>\n      <td>1297.0712</td>\n      <td>H</td>\n      <td>W</td>\n      <td>0.631101</td>\n      <td>NaN</td>\n    </tr>\n    <tr>\n      <td>3</td>\n      <td>2</td>\n      <td>194611020CHS</td>\n      <td>NBA</td>\n      <td>1</td>\n      <td>1947</td>\n      <td>11/2/1946</td>\n      <td>2</td>\n      <td>0</td>\n      <td>NYK</td>\n      <td>Knicks</td>\n      <td>...</td>\n      <td>40.692783</td>\n      <td>CHS</td>\n      <td>Stags</td>\n      <td>63</td>\n      <td>1300.0000</td>\n      <td>1309.6521</td>\n      <td>A</td>\n      <td>L</td>\n      <td>0.368899</td>\n      <td>NaN</td>\n    </tr>\n    <tr>\n      <td>4</td>\n      <td>3</td>\n      <td>194611020DTF</td>\n      <td>NBA</td>\n      <td>0</td>\n      <td>1947</td>\n      <td>11/2/1946</td>\n      <td>1</td>\n      <td>0</td>\n      <td>DTF</td>\n      <td>Falcons</td>\n      <td>...</td>\n      <td>38.864048</td>\n      <td>WSC</td>\n      <td>Capitols</td>\n      <td>50</td>\n      <td>1300.0000</td>\n      <td>1320.3811</td>\n      <td>H</td>\n      <td>L</td>\n      <td>0.640065</td>\n      <td>NaN</td>\n    </tr>\n  </tbody>\n</table>\n<p>5 rows × 23 columns</p>\n</div>",
      "text/plain": "   gameorder       game_id lg_id  _iscopy  year_id  date_game  seasongame  \\\n0          1  194611010TRH   NBA        0     1947  11/1/1946           1   \n1          1  194611010TRH   NBA        1     1947  11/1/1946           1   \n2          2  194611020CHS   NBA        0     1947  11/2/1946           1   \n3          2  194611020CHS   NBA        1     1947  11/2/1946           2   \n4          3  194611020DTF   NBA        0     1947  11/2/1946           1   \n\n   is_playoffs team_id  fran_id  ...  win_equiv  opp_id  opp_fran  opp_pts  \\\n0            0     TRH  Huskies  ...  40.294830     NYK    Knicks       68   \n1            0     NYK   Knicks  ...  41.705170     TRH   Huskies       66   \n2            0     CHS    Stags  ...  42.012257     NYK    Knicks       47   \n3            0     NYK   Knicks  ...  40.692783     CHS     Stags       63   \n4            0     DTF  Falcons  ...  38.864048     WSC  Capitols       50   \n\n   opp_elo_i  opp_elo_n  game_location  game_result  forecast notes  \n0  1300.0000  1306.7233              H            L  0.640065   NaN  \n1  1300.0000  1293.2767              A            W  0.359935   NaN  \n2  1306.7233  1297.0712              H            W  0.631101   NaN  \n3  1300.0000  1309.6521              A            L  0.368899   NaN  \n4  1300.0000  1320.3811              H            L  0.640065   NaN  \n\n[5 rows x 23 columns]"
     },
     "execution_count": 58,
     "metadata": {},
     "output_type": "execute_result"
    }
   ],
   "source": [
    "nba.head()"
   ]
  },
  {
   "cell_type": "code",
   "execution_count": 60,
   "metadata": {},
   "outputs": [],
   "source": [
    "# set two decimal place instead of six\n",
    "pandas.set_option(\"display.precision\", 2)"
   ]
  },
  {
   "cell_type": "code",
   "execution_count": 62,
   "metadata": {},
   "outputs": [],
   "source": [
    "# configure Pandas to display all columns like this\n",
    "\n",
    "pandas.set_option(\"display.max.columns\", None)"
   ]
  },
  {
   "cell_type": "code",
   "execution_count": 63,
   "metadata": {},
   "outputs": [
    {
     "data": {
      "text/html": "<div>\n<style scoped>\n    .dataframe tbody tr th:only-of-type {\n        vertical-align: middle;\n    }\n\n    .dataframe tbody tr th {\n        vertical-align: top;\n    }\n\n    .dataframe thead th {\n        text-align: right;\n    }\n</style>\n<table border=\"1\" class=\"dataframe\">\n  <thead>\n    <tr style=\"text-align: right;\">\n      <th></th>\n      <th>gameorder</th>\n      <th>game_id</th>\n      <th>lg_id</th>\n      <th>_iscopy</th>\n      <th>year_id</th>\n      <th>date_game</th>\n      <th>seasongame</th>\n      <th>is_playoffs</th>\n      <th>team_id</th>\n      <th>fran_id</th>\n      <th>pts</th>\n      <th>elo_i</th>\n      <th>elo_n</th>\n      <th>win_equiv</th>\n      <th>opp_id</th>\n      <th>opp_fran</th>\n      <th>opp_pts</th>\n      <th>opp_elo_i</th>\n      <th>opp_elo_n</th>\n      <th>game_location</th>\n      <th>game_result</th>\n      <th>forecast</th>\n      <th>notes</th>\n    </tr>\n  </thead>\n  <tbody>\n    <tr>\n      <td>126311</td>\n      <td>63156</td>\n      <td>201506140GSW</td>\n      <td>NBA</td>\n      <td>1</td>\n      <td>2015</td>\n      <td>6/14/2015</td>\n      <td>101</td>\n      <td>1</td>\n      <td>CLE</td>\n      <td>Cavaliers</td>\n      <td>91</td>\n      <td>1704.39</td>\n      <td>1700.74</td>\n      <td>60.01</td>\n      <td>GSW</td>\n      <td>Warriors</td>\n      <td>104</td>\n      <td>1809.98</td>\n      <td>1813.63</td>\n      <td>A</td>\n      <td>L</td>\n      <td>0.23</td>\n      <td>NaN</td>\n    </tr>\n    <tr>\n      <td>126312</td>\n      <td>63157</td>\n      <td>201506170CLE</td>\n      <td>NBA</td>\n      <td>0</td>\n      <td>2015</td>\n      <td>6/16/2015</td>\n      <td>102</td>\n      <td>1</td>\n      <td>CLE</td>\n      <td>Cavaliers</td>\n      <td>97</td>\n      <td>1700.74</td>\n      <td>1692.09</td>\n      <td>59.29</td>\n      <td>GSW</td>\n      <td>Warriors</td>\n      <td>105</td>\n      <td>1813.63</td>\n      <td>1822.29</td>\n      <td>H</td>\n      <td>L</td>\n      <td>0.48</td>\n      <td>NaN</td>\n    </tr>\n    <tr>\n      <td>126313</td>\n      <td>63157</td>\n      <td>201506170CLE</td>\n      <td>NBA</td>\n      <td>1</td>\n      <td>2015</td>\n      <td>6/16/2015</td>\n      <td>103</td>\n      <td>1</td>\n      <td>GSW</td>\n      <td>Warriors</td>\n      <td>105</td>\n      <td>1813.63</td>\n      <td>1822.29</td>\n      <td>68.52</td>\n      <td>CLE</td>\n      <td>Cavaliers</td>\n      <td>97</td>\n      <td>1700.74</td>\n      <td>1692.09</td>\n      <td>A</td>\n      <td>W</td>\n      <td>0.52</td>\n      <td>NaN</td>\n    </tr>\n  </tbody>\n</table>\n</div>",
      "text/plain": "        gameorder       game_id lg_id  _iscopy  year_id  date_game  \\\n126311      63156  201506140GSW   NBA        1     2015  6/14/2015   \n126312      63157  201506170CLE   NBA        0     2015  6/16/2015   \n126313      63157  201506170CLE   NBA        1     2015  6/16/2015   \n\n        seasongame  is_playoffs team_id    fran_id  pts    elo_i    elo_n  \\\n126311         101            1     CLE  Cavaliers   91  1704.39  1700.74   \n126312         102            1     CLE  Cavaliers   97  1700.74  1692.09   \n126313         103            1     GSW   Warriors  105  1813.63  1822.29   \n\n        win_equiv opp_id   opp_fran  opp_pts  opp_elo_i  opp_elo_n  \\\n126311      60.01    GSW   Warriors      104    1809.98    1813.63   \n126312      59.29    GSW   Warriors      105    1813.63    1822.29   \n126313      68.52    CLE  Cavaliers       97    1700.74    1692.09   \n\n       game_location game_result  forecast notes  \n126311             A           L      0.23   NaN  \n126312             H           L      0.48   NaN  \n126313             A           W      0.52   NaN  "
     },
     "execution_count": 63,
     "metadata": {},
     "output_type": "execute_result"
    }
   ],
   "source": [
    "nba.tail(3)"
   ]
  },
  {
   "cell_type": "markdown",
   "execution_count": 64,
   "metadata": {},
   "outputs": [],
   "source": [
    "### 3. Learn more about the dataset"
   ]
  },
  {
   "cell_type": "code",
   "execution_count": 65,
   "metadata": {},
   "outputs": [
    {
     "name": "stdout",
     "output_type": "stream",
     "text": "<class 'pandas.core.frame.DataFrame'>\nRangeIndex: 126314 entries, 0 to 126313\nData columns (total 23 columns):\ngameorder        126314 non-null int64\ngame_id          126314 non-null object\nlg_id            126314 non-null object\n_iscopy          126314 non-null int64\nyear_id          126314 non-null int64\ndate_game        126314 non-null object\nseasongame       126314 non-null int64\nis_playoffs      126314 non-null int64\nteam_id          126314 non-null object\nfran_id          126314 non-null object\npts              126314 non-null int64\nelo_i            126314 non-null float64\nelo_n            126314 non-null float64\nwin_equiv        126314 non-null float64\nopp_id           126314 non-null object\nopp_fran         126314 non-null object\nopp_pts          126314 non-null int64\nopp_elo_i        126314 non-null float64\nopp_elo_n        126314 non-null float64\ngame_location    126314 non-null object\ngame_result      126314 non-null object\nforecast         126314 non-null float64\nnotes            5424 non-null object\ndtypes: float64(6), int64(7), object(10)\nmemory usage: 22.2+ MB\n"
    }
   ],
   "source": [
    "nba.info()"
   ]
  },
  {
   "cell_type": "code",
   "execution_count": 66,
   "metadata": {},
   "outputs": [
    {
     "data": {
      "text/html": "<div>\n<style scoped>\n    .dataframe tbody tr th:only-of-type {\n        vertical-align: middle;\n    }\n\n    .dataframe tbody tr th {\n        vertical-align: top;\n    }\n\n    .dataframe thead th {\n        text-align: right;\n    }\n</style>\n<table border=\"1\" class=\"dataframe\">\n  <thead>\n    <tr style=\"text-align: right;\">\n      <th></th>\n      <th>gameorder</th>\n      <th>_iscopy</th>\n      <th>year_id</th>\n      <th>seasongame</th>\n      <th>is_playoffs</th>\n      <th>pts</th>\n      <th>elo_i</th>\n      <th>elo_n</th>\n      <th>win_equiv</th>\n      <th>opp_pts</th>\n      <th>opp_elo_i</th>\n      <th>opp_elo_n</th>\n      <th>forecast</th>\n    </tr>\n  </thead>\n  <tbody>\n    <tr>\n      <td>count</td>\n      <td>126314.00</td>\n      <td>126314.0</td>\n      <td>126314.00</td>\n      <td>126314.00</td>\n      <td>126314.00</td>\n      <td>126314.00</td>\n      <td>126314.00</td>\n      <td>126314.00</td>\n      <td>126314.00</td>\n      <td>126314.00</td>\n      <td>126314.00</td>\n      <td>126314.00</td>\n      <td>126314.00</td>\n    </tr>\n    <tr>\n      <td>mean</td>\n      <td>31579.00</td>\n      <td>0.5</td>\n      <td>1988.20</td>\n      <td>43.53</td>\n      <td>0.06</td>\n      <td>102.73</td>\n      <td>1495.24</td>\n      <td>1495.24</td>\n      <td>41.71</td>\n      <td>102.73</td>\n      <td>1495.24</td>\n      <td>1495.24</td>\n      <td>0.50</td>\n    </tr>\n    <tr>\n      <td>std</td>\n      <td>18231.93</td>\n      <td>0.5</td>\n      <td>17.58</td>\n      <td>25.38</td>\n      <td>0.24</td>\n      <td>14.81</td>\n      <td>112.14</td>\n      <td>112.46</td>\n      <td>10.63</td>\n      <td>14.81</td>\n      <td>112.14</td>\n      <td>112.46</td>\n      <td>0.22</td>\n    </tr>\n    <tr>\n      <td>min</td>\n      <td>1.00</td>\n      <td>0.0</td>\n      <td>1947.00</td>\n      <td>1.00</td>\n      <td>0.00</td>\n      <td>0.00</td>\n      <td>1091.64</td>\n      <td>1085.77</td>\n      <td>10.15</td>\n      <td>0.00</td>\n      <td>1091.64</td>\n      <td>1085.77</td>\n      <td>0.02</td>\n    </tr>\n    <tr>\n      <td>25%</td>\n      <td>15790.00</td>\n      <td>0.0</td>\n      <td>1975.00</td>\n      <td>22.00</td>\n      <td>0.00</td>\n      <td>93.00</td>\n      <td>1417.24</td>\n      <td>1416.99</td>\n      <td>34.10</td>\n      <td>93.00</td>\n      <td>1417.24</td>\n      <td>1416.99</td>\n      <td>0.33</td>\n    </tr>\n    <tr>\n      <td>50%</td>\n      <td>31579.00</td>\n      <td>0.5</td>\n      <td>1990.00</td>\n      <td>43.00</td>\n      <td>0.00</td>\n      <td>103.00</td>\n      <td>1500.95</td>\n      <td>1500.95</td>\n      <td>42.11</td>\n      <td>103.00</td>\n      <td>1500.95</td>\n      <td>1500.95</td>\n      <td>0.50</td>\n    </tr>\n    <tr>\n      <td>75%</td>\n      <td>47368.00</td>\n      <td>1.0</td>\n      <td>2003.00</td>\n      <td>65.00</td>\n      <td>0.00</td>\n      <td>112.00</td>\n      <td>1576.06</td>\n      <td>1576.29</td>\n      <td>49.64</td>\n      <td>112.00</td>\n      <td>1576.06</td>\n      <td>1576.29</td>\n      <td>0.67</td>\n    </tr>\n    <tr>\n      <td>max</td>\n      <td>63157.00</td>\n      <td>1.0</td>\n      <td>2015.00</td>\n      <td>108.00</td>\n      <td>1.00</td>\n      <td>186.00</td>\n      <td>1853.10</td>\n      <td>1853.10</td>\n      <td>71.11</td>\n      <td>186.00</td>\n      <td>1853.10</td>\n      <td>1853.10</td>\n      <td>0.98</td>\n    </tr>\n  </tbody>\n</table>\n</div>",
      "text/plain": "       gameorder   _iscopy    year_id  seasongame  is_playoffs        pts  \\\ncount  126314.00  126314.0  126314.00   126314.00    126314.00  126314.00   \nmean    31579.00       0.5    1988.20       43.53         0.06     102.73   \nstd     18231.93       0.5      17.58       25.38         0.24      14.81   \nmin         1.00       0.0    1947.00        1.00         0.00       0.00   \n25%     15790.00       0.0    1975.00       22.00         0.00      93.00   \n50%     31579.00       0.5    1990.00       43.00         0.00     103.00   \n75%     47368.00       1.0    2003.00       65.00         0.00     112.00   \nmax     63157.00       1.0    2015.00      108.00         1.00     186.00   \n\n           elo_i      elo_n  win_equiv    opp_pts  opp_elo_i  opp_elo_n  \\\ncount  126314.00  126314.00  126314.00  126314.00  126314.00  126314.00   \nmean     1495.24    1495.24      41.71     102.73    1495.24    1495.24   \nstd       112.14     112.46      10.63      14.81     112.14     112.46   \nmin      1091.64    1085.77      10.15       0.00    1091.64    1085.77   \n25%      1417.24    1416.99      34.10      93.00    1417.24    1416.99   \n50%      1500.95    1500.95      42.11     103.00    1500.95    1500.95   \n75%      1576.06    1576.29      49.64     112.00    1576.06    1576.29   \nmax      1853.10    1853.10      71.11     186.00    1853.10    1853.10   \n\n        forecast  \ncount  126314.00  \nmean        0.50  \nstd         0.22  \nmin         0.02  \n25%         0.33  \n50%         0.50  \n75%         0.67  \nmax         0.98  "
     },
     "execution_count": 66,
     "metadata": {},
     "output_type": "execute_result"
    }
   ],
   "source": [
    "nba.describe()"
   ]
  },
  {
   "cell_type": "code",
   "execution_count": 67,
   "metadata": {},
   "outputs": [
    {
     "data": {
      "text/html": "<div>\n<style scoped>\n    .dataframe tbody tr th:only-of-type {\n        vertical-align: middle;\n    }\n\n    .dataframe tbody tr th {\n        vertical-align: top;\n    }\n\n    .dataframe thead th {\n        text-align: right;\n    }\n</style>\n<table border=\"1\" class=\"dataframe\">\n  <thead>\n    <tr style=\"text-align: right;\">\n      <th></th>\n      <th>game_id</th>\n      <th>lg_id</th>\n      <th>date_game</th>\n      <th>team_id</th>\n      <th>fran_id</th>\n      <th>opp_id</th>\n      <th>opp_fran</th>\n      <th>game_location</th>\n      <th>game_result</th>\n      <th>notes</th>\n    </tr>\n  </thead>\n  <tbody>\n    <tr>\n      <td>count</td>\n      <td>126314</td>\n      <td>126314</td>\n      <td>126314</td>\n      <td>126314</td>\n      <td>126314</td>\n      <td>126314</td>\n      <td>126314</td>\n      <td>126314</td>\n      <td>126314</td>\n      <td>5424</td>\n    </tr>\n    <tr>\n      <td>unique</td>\n      <td>63157</td>\n      <td>2</td>\n      <td>12426</td>\n      <td>104</td>\n      <td>53</td>\n      <td>104</td>\n      <td>53</td>\n      <td>3</td>\n      <td>2</td>\n      <td>231</td>\n    </tr>\n    <tr>\n      <td>top</td>\n      <td>196712300STL</td>\n      <td>NBA</td>\n      <td>4/17/2013</td>\n      <td>BOS</td>\n      <td>Lakers</td>\n      <td>BOS</td>\n      <td>Lakers</td>\n      <td>H</td>\n      <td>W</td>\n      <td>at New York NY</td>\n    </tr>\n    <tr>\n      <td>freq</td>\n      <td>2</td>\n      <td>118016</td>\n      <td>30</td>\n      <td>5997</td>\n      <td>6024</td>\n      <td>5997</td>\n      <td>6024</td>\n      <td>63138</td>\n      <td>63157</td>\n      <td>440</td>\n    </tr>\n  </tbody>\n</table>\n</div>",
      "text/plain": "             game_id   lg_id  date_game team_id fran_id  opp_id opp_fran  \\\ncount         126314  126314     126314  126314  126314  126314   126314   \nunique         63157       2      12426     104      53     104       53   \ntop     196712300STL     NBA  4/17/2013     BOS  Lakers     BOS   Lakers   \nfreq               2  118016         30    5997    6024    5997     6024   \n\n       game_location game_result           notes  \ncount         126314      126314            5424  \nunique             3           2             231  \ntop                H           W  at New York NY  \nfreq           63138       63157             440  "
     },
     "execution_count": 67,
     "metadata": {},
     "output_type": "execute_result"
    }
   ],
   "source": [
    "# .describe() won’t try to calculate a mean or a standard deviation for the object columns, since they mostly include text strings. However, it will still display some descriptive statistics:\n",
    "import numpy \n",
    "nba.describe(include=numpy.object)"
   ]
  },
  {
   "cell_type": "code",
   "execution_count": 68,
   "metadata": {},
   "outputs": [
    {
     "data": {
      "text/plain": "BOS    5997\nNYK    5769\nLAL    5078\nDET    4985\nPHI    4533\n       ... \nINJ      60\nDTF      60\nPIT      60\nTRH      60\nSDS      11\nName: team_id, Length: 104, dtype: int64"
     },
     "execution_count": 68,
     "metadata": {},
     "output_type": "execute_result"
    }
   ],
   "source": [
    "nba[\"team_id\"].value_counts()"
   ]
  },
  {
   "cell_type": "code",
   "execution_count": 69,
   "metadata": {},
   "outputs": [
    {
     "data": {
      "text/plain": "Lakers          6024\nCeltics         5997\nKnicks          5769\nWarriors        5657\nPistons         5650\nSixers          5644\nHawks           5572\nKings           5475\nWizards         4582\nSpurs           4309\nBulls           4307\nPacers          4227\nThunder         4178\nRockets         4154\nNuggets         4120\nNets            4106\nSuns            4080\nBucks           4034\nTrailblazers    3870\nCavaliers       3810\nClippers        3733\nJazz            3555\nMavericks       3013\nHeat            2371\nPelicans        2254\nMagic           2207\nTimberwolves    2131\nGrizzlies       1657\nRaptors         1634\nHornets          894\nColonels         846\nSquires          799\nSpirits          777\nStars            756\nSounds           697\nBaltimore        467\nFloridians       440\nCondors          430\nCapitols         291\nOlympians        282\nSails            274\nStags            260\nBombers          249\nSteamrollers     168\nPackers           72\nRedskins          65\nRebels            63\nWaterloo          62\nDenver            62\nFalcons           60\nHuskies           60\nJets              60\nIronmen           60\nName: fran_id, dtype: int64"
     },
     "execution_count": 69,
     "metadata": {},
     "output_type": "execute_result"
    }
   ],
   "source": [
    "nba[\"fran_id\"].value_counts()"
   ]
  },
  {
   "cell_type": "code",
   "execution_count": 72,
   "metadata": {},
   "outputs": [
    {
     "data": {
      "text/plain": "LAL    5078\nMNL     946\nName: team_id, dtype: int64"
     },
     "execution_count": 72,
     "metadata": {},
     "output_type": "execute_result"
    }
   ],
   "source": [
    "# It seems that a team named \"Lakers\" played 6024 games, but only 5078 of those were played by the Los Angeles Lakers,  the Minneapolis Lakers (\"MNL\") played 946 games.\n",
    "nba.loc[nba[\"fran_id\"] == \"Lakers\", \"team_id\"].value_counts()"
   ]
  },
  {
   "cell_type": "code",
   "execution_count": 74,
   "metadata": {},
   "outputs": [
    {
     "data": {
      "text/plain": "min    1/1/1949\nmax    4/9/1959\nName: date_game, dtype: object"
     },
     "execution_count": 74,
     "metadata": {},
     "output_type": "execute_result"
    }
   ],
   "source": [
    "# It looks like the Minneapolis Lakers played between the years of 1949 and 1959#\n",
    "nba.loc[nba[\"team_id\"] == \"MNL\", \"date_game\"].min()\n",
    "nba.loc[nba[\"team_id\"] == \"MNL\", \"date_game\"].max()\n",
    "nba.loc[nba[\"team_id\"] == \"MNL\", \"date_game\"].agg((\"min\", \"max\"))"
   ]
  },
  {
   "cell_type": "code",
   "execution_count": 76,
   "metadata": {},
   "outputs": [
    {
     "data": {
      "text/plain": "626484"
     },
     "execution_count": 76,
     "metadata": {},
     "output_type": "execute_result"
    }
   ],
   "source": [
    "# Find out how many points the Boston Celtics have scored during all matches contained in this dataset\n",
    "nba.loc[nba[\"team_id\"] == \"BOS\", \"pts\"].sum()"
   ]
  },
  {
   "cell_type": "code",
   "execution_count": 78,
   "metadata": {},
   "outputs": [],
   "source": [
    "### 4. Understanding dataframe objects"
   ]
  },
  {
   "cell_type": "code",
   "execution_count": 79,
   "metadata": {},
   "outputs": [
    {
     "data": {
      "text/plain": "Index(['gameorder', 'game_id', 'lg_id', '_iscopy', 'year_id', 'date_game',\n       'seasongame', 'is_playoffs', 'team_id', 'fran_id', 'pts', 'elo_i',\n       'elo_n', 'win_equiv', 'opp_id', 'opp_fran', 'opp_pts', 'opp_elo_i',\n       'opp_elo_n', 'game_location', 'game_result', 'forecast', 'notes'],\n      dtype='object')"
     },
     "execution_count": 79,
     "metadata": {},
     "output_type": "execute_result"
    }
   ],
   "source": [
    "nba.keys()"
   ]
  },
  {
   "cell_type": "code",
   "execution_count": 83,
   "metadata": {},
   "outputs": [
    {
     "data": {
      "text/plain": "RangeIndex(start=0, stop=126314, step=1)"
     },
     "execution_count": 83,
     "metadata": {},
     "output_type": "execute_result"
    }
   ],
   "source": [
    "nba.index"
   ]
  },
  {
   "cell_type": "code",
   "execution_count": 84,
   "metadata": {},
   "outputs": [
    {
     "data": {
      "text/plain": "[RangeIndex(start=0, stop=126314, step=1),\n Index(['gameorder', 'game_id', 'lg_id', '_iscopy', 'year_id', 'date_game',\n        'seasongame', 'is_playoffs', 'team_id', 'fran_id', 'pts', 'elo_i',\n        'elo_n', 'win_equiv', 'opp_id', 'opp_fran', 'opp_pts', 'opp_elo_i',\n        'opp_elo_n', 'game_location', 'game_result', 'forecast', 'notes'],\n       dtype='object')]"
     },
     "execution_count": 84,
     "metadata": {},
     "output_type": "execute_result"
    }
   ],
   "source": [
    "nba.axes"
   ]
  },
  {
   "cell_type": "markdown",
   "execution_count": null,
   "metadata": {},
   "outputs": [],
   "source": [
    "### 4. Accessing Elements\n",
    "use two Pandas-specific access methods:\n",
    "\n",
    "* __.loc__\n",
    "* __.iloc__\n",
    "\n"
   ]
  },
  {
   "cell_type": "code",
   "execution_count": null,
   "metadata": {},
   "outputs": [],
   "source": []
  }
 ]
}