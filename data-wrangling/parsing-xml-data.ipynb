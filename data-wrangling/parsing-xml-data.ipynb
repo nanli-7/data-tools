{
 "cells": [
  {
   "cell_type": "markdown",
   "metadata": {},
   "source": [
    "##  1. Parsing Simple XML Data\n",
    "* The __xml.etree.ElementTree__ module can be used to extract data from simple XML documents. "
   ]
  },
  {
   "cell_type": "code",
   "execution_count": 1,
   "metadata": {},
   "outputs": [],
   "source": [
    "import urllib"
   ]
  },
  {
   "cell_type": "code",
   "execution_count": 2,
   "metadata": {},
   "outputs": [],
   "source": [
    "import xml.etree.ElementTree"
   ]
  },
  {
   "cell_type": "code",
   "execution_count": 3,
   "metadata": {},
   "outputs": [],
   "source": [
    "# Download the RSS feed and parse it\n",
    "url = urllib.request.urlopen('http://planet.python.org/rss20.xml')"
   ]
  },
  {
   "cell_type": "code",
   "execution_count": 4,
   "metadata": {},
   "outputs": [],
   "source": [
    "doc = xml.etree.ElementTree.parse(url)"
   ]
  },
  {
   "cell_type": "code",
   "execution_count": 5,
   "metadata": {},
   "outputs": [
    {
     "name": "stdout",
     "output_type": "stream",
     "text": [
      "Codementor: Useful Development Tools For Beginners\n",
      "Sun, 01 Sep 2019 15:32:26 +0000\n",
      "https://www.codementor.io/jamiekelly/development-tools-for-beginners-yezvsxcqj\n",
      "\n",
      "Codementor: Motor control PLC in Python\n",
      "Sun, 01 Sep 2019 15:26:01 +0000\n",
      "https://www.codementor.io/subrata_mitra2018/motor-control-plc-in-python-yenyiioj9\n",
      "\n",
      "Ed Crewe: Teaching an old Pythonista new Gopher tricks\n",
      "Sun, 01 Sep 2019 12:27:59 +0000\n",
      "http://edcrewe.blogspot.com/2019/09/teaching-old-pythonista-new-gopher.html\n",
      "\n",
      "Tryton News: Newsletter September 2019\n",
      "Sun, 01 Sep 2019 06:00:06 +0000\n",
      "https://discuss.tryton.org/t/newsletter-september-2019/1634\n",
      "\n",
      "IslandT: Multiply according to the number of times\n",
      "Sun, 01 Sep 2019 05:05:28 +0000\n",
      "https://kibiwebgeek.com/multiply-according-to-the-number-of-times/\n",
      "\n",
      "Weekly Python StackOverflow Report: (cxcii) stackoverflow python report\n",
      "Sat, 31 Aug 2019 22:41:00 +0000\n",
      "http://python-weekly.blogspot.com/2019/09/cxcii-stackoverflow-python-report.html\n",
      "\n",
      "Kushal Das: Announcing lymworkbook project\n",
      "Sat, 31 Aug 2019 14:27:31 +0000\n",
      "https://kushaldas.in/posts/announcing-lymworkbook-project.html\n",
      "\n",
      "PyCon: PyCon 2020 Conference Site is here!\n",
      "Sat, 31 Aug 2019 13:04:24 +0000\n",
      "https://pycon.blogspot.com/2019/08/pycon-2020-conference-site-is-here.html\n",
      "\n",
      "Python Bytes: #145 The Python 3 “Y2K” problem\n",
      "Sat, 31 Aug 2019 08:00:00 +0000\n",
      "https://pythonbytes.fm/episodes/show/145/the-python-3-y2k-problem\n",
      "\n",
      "IslandT: Combine two strings with Python method\n",
      "Sat, 31 Aug 2019 04:55:21 +0000\n",
      "https://kibiwebgeek.com/combine-two-strings-with-python-method/\n",
      "\n",
      "Matt Layman: Celery In A Shiv App - Building SaaS #31\n",
      "Sat, 31 Aug 2019 00:00:00 +0000\n",
      "https://www.mattlayman.com/building-saas/celery-in-shiv/\n",
      "\n",
      "PyCharm: PyCharm 2019.2.2 Preview\n",
      "Fri, 30 Aug 2019 14:08:54 +0000\n",
      "http://feedproxy.google.com/~r/Pycharm/~3/sKj0AmdLh1s/\n",
      "\n",
      "Python Insider: Python 3.8.0b4 is now available for testing\n",
      "Fri, 30 Aug 2019 04:42:45 +0000\n",
      "http://feedproxy.google.com/~r/PythonInsider/~3/FTBbItOCE6g/python-380b4-is-now-available-for.html\n",
      "\n",
      "Continuum Analytics Blog: Canaries Can Tweet: Preview New Features with Conda Canary\n",
      "Thu, 29 Aug 2019 20:33:56 +0000\n",
      "https://www.anaconda.com/preview-new-features-conda-canary/\n",
      "\n",
      "Thibauld Nion: 7 years of Django in 7-ish days\n",
      "Thu, 29 Aug 2019 20:24:11 +0000\n",
      "https://tibonihoo.net/en/blog/2019/08/7-ans-de-django-en-1-semaine/\n",
      "\n",
      "Ned Batchelder: Don’t omit tests from coverage\n",
      "Thu, 29 Aug 2019 10:43:59 +0000\n",
      "https://nedbatchelder.com//blog/201908/dont_omit_tests_from_coverage.html\n",
      "\n",
      "IslandT: Find the maximum value within a string with Python\n",
      "Thu, 29 Aug 2019 03:33:27 +0000\n",
      "https://kibiwebgeek.com/find-the-maximum-value-within-a-string-with-python/\n",
      "\n",
      "py.CheckIO: New Python on CheckiO\n",
      "Thu, 29 Aug 2019 00:44:37 +0000\n",
      "http://py.checkio.org/blog/new-python-on-checkio/\n",
      "\n",
      "Python Software Foundation: PyPI Security Q4 2019 Request for Information period opens.\n",
      "Wed, 28 Aug 2019 17:23:31 +0000\n",
      "http://feedproxy.google.com/~r/PythonSoftwareFoundationNews/~3/gIKwwagf0H0/pypi-security-q4-2019-request-for.html\n",
      "\n",
      "Stack Abuse: Introduction to the Python Pyramid Framework\n",
      "Wed, 28 Aug 2019 15:10:00 +0000\n",
      "https://stackabuse.com/introduction-to-the-python-pyramid-framework/\n",
      "\n",
      "Ruslan Spivak: Let’s Build A Simple Interpreter. Part 17: Call Stack and Activation Records\n",
      "Wed, 28 Aug 2019 15:00:00 +0000\n",
      "https://ruslanspivak.com/lsbasi-part17/\n",
      "\n",
      "Real Python: PyCharm for Productive Python Development (Guide)\n",
      "Wed, 28 Aug 2019 14:00:00 +0000\n",
      "https://realpython.com/pycharm-guide/\n",
      "\n",
      "Caktus Consulting Group: A Review of ReportLab: PDF Processing with Python\n",
      "Wed, 28 Aug 2019 12:00:00 +0000\n",
      "http://www.caktusgroup.com/blog/2019/08/28/review-reportlab-pdf-processing-python/\n",
      "\n",
      "Talk Python to Me: #227 Maintainable data science: Tips for non-developers\n",
      "Wed, 28 Aug 2019 08:00:00 +0000\n",
      "https://talkpython.fm/episodes/show/227/maintainable-data-science-tips-for-non-developers\n",
      "\n",
      "Humberto Rocha: Publishing my first Game\n",
      "Wed, 28 Aug 2019 03:00:00 +0000\n",
      "https://humberto.io/blog/publishing-my-first-game/\n",
      "\n"
     ]
    }
   ],
   "source": [
    "# Extract and output tags of interest\n",
    "for item in doc.iterfind('channel/item'):\n",
    "    title = item.findtext('title')\n",
    "    date = item.findtext('pubDate')\n",
    "    link = item.findtext('link')\n",
    "    print(title)\n",
    "    print(date)\n",
    "    print(link)\n",
    "    print()"
   ]
  },
  {
   "cell_type": "markdown",
   "metadata": {},
   "source": [
    "## 2. Turning a Dictionary into XML "
   ]
  },
  {
   "cell_type": "code",
   "execution_count": 6,
   "metadata": {},
   "outputs": [],
   "source": [
    "def dict_to_xml(tag, d):\n",
    "    '''\n",
    "    Turn a simple dict of key/value pairs into XML\n",
    "    '''\n",
    "    elem = xml.etree.ElementTree.Element(tag)\n",
    "    \n",
    "    for key, val in d.items():\n",
    "        child = xml.etree.ElementTree.Element(key)\n",
    "        child.text = str(val)\n",
    "        elem.append(child)\n",
    "    \n",
    "    return elem"
   ]
  },
  {
   "cell_type": "code",
   "execution_count": 7,
   "metadata": {},
   "outputs": [],
   "source": [
    "s = { 'name': 'GOOG', 'shares': 100, 'price': 1188.1 }"
   ]
  },
  {
   "cell_type": "code",
   "execution_count": 8,
   "metadata": {},
   "outputs": [],
   "source": [
    "e = dict_to_xml('stock', s)"
   ]
  },
  {
   "cell_type": "code",
   "execution_count": 9,
   "metadata": {},
   "outputs": [
    {
     "data": {
      "text/plain": [
       "<Element 'stock' at 0x10d0f7db8>"
      ]
     },
     "execution_count": 9,
     "metadata": {},
     "output_type": "execute_result"
    }
   ],
   "source": [
    "e"
   ]
  },
  {
   "cell_type": "code",
   "execution_count": null,
   "metadata": {},
   "outputs": [],
   "source": []
  }
 ],
 "metadata": {
  "kernelspec": {
   "display_name": "Python 3",
   "language": "python",
   "name": "python3"
  },
  "language_info": {
   "codemirror_mode": {
    "name": "ipython",
    "version": 3
   },
   "file_extension": ".py",
   "mimetype": "text/x-python",
   "name": "python",
   "nbconvert_exporter": "python",
   "pygments_lexer": "ipython3",
   "version": "3.7.1"
  }
 },
 "nbformat": 4,
 "nbformat_minor": 2
}
