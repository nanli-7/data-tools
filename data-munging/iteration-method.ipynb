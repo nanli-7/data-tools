{
 "cells": [
  {
   "cell_type": "code",
   "execution_count": 1,
   "metadata": {
    "collapsed": true
   },
   "outputs": [],
   "source": [
    "import pandas as pd\n",
    "import numpy as np"
   ]
  },
  {
   "cell_type": "code",
   "execution_count": 2,
   "metadata": {
    "collapsed": false
   },
   "outputs": [
    {
     "data": {
      "text/html": [
       "<div>\n",
       "<table border=\"1\" class=\"dataframe\">\n",
       "  <thead>\n",
       "    <tr style=\"text-align: right;\">\n",
       "      <th></th>\n",
       "      <th>age</th>\n",
       "      <th>favorite_color</th>\n",
       "      <th>name</th>\n",
       "      <th>test_one</th>\n",
       "      <th>test_two</th>\n",
       "    </tr>\n",
       "  </thead>\n",
       "  <tbody>\n",
       "    <tr>\n",
       "      <th>0</th>\n",
       "      <td>20</td>\n",
       "      <td>blue</td>\n",
       "      <td>Willard Morris</td>\n",
       "      <td>88</td>\n",
       "      <td>78</td>\n",
       "    </tr>\n",
       "    <tr>\n",
       "      <th>1</th>\n",
       "      <td>19</td>\n",
       "      <td>blue</td>\n",
       "      <td>Al Jennings</td>\n",
       "      <td>92</td>\n",
       "      <td>100</td>\n",
       "    </tr>\n",
       "    <tr>\n",
       "      <th>2</th>\n",
       "      <td>22</td>\n",
       "      <td>yellow</td>\n",
       "      <td>Omar Mullins</td>\n",
       "      <td>95</td>\n",
       "      <td>90</td>\n",
       "    </tr>\n",
       "    <tr>\n",
       "      <th>3</th>\n",
       "      <td>21</td>\n",
       "      <td>green</td>\n",
       "      <td>Spencer McDaniel</td>\n",
       "      <td>70</td>\n",
       "      <td>85</td>\n",
       "    </tr>\n",
       "  </tbody>\n",
       "</table>\n",
       "</div>"
      ],
      "text/plain": [
       "   age favorite_color              name  test_one  test_two\n",
       "0   20           blue    Willard Morris        88        78\n",
       "1   19           blue       Al Jennings        92       100\n",
       "2   22         yellow      Omar Mullins        95        90\n",
       "3   21          green  Spencer McDaniel        70        85"
      ]
     },
     "execution_count": 2,
     "metadata": {},
     "output_type": "execute_result"
    }
   ],
   "source": [
    "## Create dummy dataframe\n",
    "\n",
    "raw_data = {'name': ['Willard Morris', 'Al Jennings', 'Omar Mullins', 'Spencer McDaniel'],\n",
    "                      'age': [20, 19, 22, 21],\n",
    "                      'favorite_color': ['blue', 'blue', 'yellow', \"green\"],\n",
    "                      'test_one': [88, 92, 95, 70],\n",
    "                      'test_two': [78, 100, 90, 85]}\n",
    "df = pd.DataFrame(raw_data)\n",
    "df"
   ]
  },
  {
   "cell_type": "markdown",
   "metadata": {},
   "source": [
    "## Iterate over column name / series pairs"
   ]
  },
  {
   "cell_type": "code",
   "execution_count": 6,
   "metadata": {
    "collapsed": false
   },
   "outputs": [
    {
     "name": "stdout",
     "output_type": "stream",
     "text": [
      "column: age\n",
      "column data:\n",
      "0    20\n",
      "1    19\n",
      "2    22\n",
      "3    21\n",
      "Name: age, dtype: int64 \n",
      "\n",
      "column: favorite_color\n",
      "column data:\n",
      "0      blue\n",
      "1      blue\n",
      "2    yellow\n",
      "3     green\n",
      "Name: favorite_color, dtype: object \n",
      "\n",
      "column: name\n",
      "column data:\n",
      "0      Willard Morris\n",
      "1         Al Jennings\n",
      "2        Omar Mullins\n",
      "3    Spencer McDaniel\n",
      "Name: name, dtype: object \n",
      "\n",
      "column: test_one\n",
      "column data:\n",
      "0    88\n",
      "1    92\n",
      "2    95\n",
      "3    70\n",
      "Name: test_one, dtype: int64 \n",
      "\n",
      "column: test_two\n",
      "column data:\n",
      "0     78\n",
      "1    100\n",
      "2     90\n",
      "3     85\n",
      "Name: test_two, dtype: int64 \n",
      "\n"
     ]
    }
   ],
   "source": [
    "for col_idx, data in df.iteritems():\n",
    "    print \"column:\", col_idx\n",
    "    print \"column data:\"\n",
    "    print data,\"\\n\""
   ]
  },
  {
   "cell_type": "markdown",
   "metadata": {},
   "source": [
    "## Iterate over rows producing data series"
   ]
  },
  {
   "cell_type": "code",
   "execution_count": 8,
   "metadata": {
    "collapsed": false
   },
   "outputs": [
    {
     "name": "stdout",
     "output_type": "stream",
     "text": [
      "row: 0\n",
      "row data:\n",
      "age                           20\n",
      "favorite_color              blue\n",
      "name              Willard Morris\n",
      "test_one                      88\n",
      "test_two                      78\n",
      "Name: 0, dtype: object \n",
      "\n",
      "row: 1\n",
      "row data:\n",
      "age                        19\n",
      "favorite_color           blue\n",
      "name              Al Jennings\n",
      "test_one                   92\n",
      "test_two                  100\n",
      "Name: 1, dtype: object \n",
      "\n",
      "row: 2\n",
      "row data:\n",
      "age                         22\n",
      "favorite_color          yellow\n",
      "name              Omar Mullins\n",
      "test_one                    95\n",
      "test_two                    90\n",
      "Name: 2, dtype: object \n",
      "\n",
      "row: 3\n",
      "row data:\n",
      "age                             21\n",
      "favorite_color               green\n",
      "name              Spencer McDaniel\n",
      "test_one                        70\n",
      "test_two                        85\n",
      "Name: 3, dtype: object \n",
      "\n"
     ]
    }
   ],
   "source": [
    "for i, row in df.iterrows():\n",
    "    print \"row:\", i\n",
    "    print \"row data:\"\n",
    "    print row, \"\\n\""
   ]
  },
  {
   "cell_type": "markdown",
   "metadata": {},
   "source": [
    "## Iterate over rows producing tuples"
   ]
  },
  {
   "cell_type": "code",
   "execution_count": 10,
   "metadata": {
    "collapsed": false
   },
   "outputs": [
    {
     "name": "stdout",
     "output_type": "stream",
     "text": [
      "Pandas(Index=0, age=20, favorite_color='blue', name='Willard Morris', test_one=88, test_two=78)\n",
      "Pandas(Index=1, age=19, favorite_color='blue', name='Al Jennings', test_one=92, test_two=100)\n",
      "Pandas(Index=2, age=22, favorite_color='yellow', name='Omar Mullins', test_one=95, test_two=90)\n",
      "Pandas(Index=3, age=21, favorite_color='green', name='Spencer McDaniel', test_one=70, test_two=85)\n"
     ]
    }
   ],
   "source": [
    "for row in df.itertuples():\n",
    "    print row"
   ]
  }
 ],
 "metadata": {
  "kernelspec": {
   "display_name": "Python 2",
   "language": "python",
   "name": "python2"
  },
  "language_info": {
   "codemirror_mode": {
    "name": "ipython",
    "version": 2
   },
   "file_extension": ".py",
   "mimetype": "text/x-python",
   "name": "python",
   "nbconvert_exporter": "python",
   "pygments_lexer": "ipython2",
   "version": "2.7.13"
  }
 },
 "nbformat": 4,
 "nbformat_minor": 2
}
